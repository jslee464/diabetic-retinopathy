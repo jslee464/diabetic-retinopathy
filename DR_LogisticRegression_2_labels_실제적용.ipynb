{
  "cells": [
    {
      "cell_type": "markdown",
      "metadata": {
        "id": "view-in-github",
        "colab_type": "text"
      },
      "source": [
        "<a href=\"https://colab.research.google.com/github/jslee464/diabetic-retinopathy/blob/main/DR_LogisticRegression_2_labels_%EC%8B%A4%EC%A0%9C%EC%A0%81%EC%9A%A9.ipynb\" target=\"_parent\"><img src=\"https://colab.research.google.com/assets/colab-badge.svg\" alt=\"Open In Colab\"/></a>"
      ]
    },
    {
      "cell_type": "code",
      "source": [
        "!git clone https://github.com/yjun20/machinelearning\n",
        "\n",
        "%cd machinelearning/new"
      ],
      "metadata": {
        "id": "CFcfqJcFakii",
        "outputId": "8f9e31a0-5410-4b23-9853-1728dcc872e9",
        "colab": {
          "base_uri": "https://localhost:8080/"
        }
      },
      "execution_count": 1,
      "outputs": [
        {
          "output_type": "stream",
          "name": "stdout",
          "text": [
            "Cloning into 'machinelearning'...\n",
            "remote: Enumerating objects: 1602, done.\u001b[K\n",
            "remote: Counting objects: 100% (199/199), done.\u001b[K\n",
            "remote: Compressing objects: 100% (199/199), done.\u001b[K\n",
            "remote: Total 1602 (delta 2), reused 193 (delta 0), pack-reused 1403\u001b[K\n",
            "Receiving objects: 100% (1602/1602), 143.71 MiB | 19.05 MiB/s, done.\n",
            "Resolving deltas: 100% (15/15), done.\n",
            "Updating files: 100% (1545/1545), done.\n",
            "/content/machinelearning/new\n"
          ]
        }
      ]
    },
    {
      "cell_type": "code",
      "source": [
        "class_names=list(range(2))\n",
        "print(class_names)"
      ],
      "metadata": {
        "id": "kYid9_enari2",
        "outputId": "4a347966-06c5-46ed-e2b2-2eb93ddb2967",
        "colab": {
          "base_uri": "https://localhost:8080/"
        }
      },
      "execution_count": 2,
      "outputs": [
        {
          "output_type": "stream",
          "name": "stdout",
          "text": [
            "[0, 1]\n"
          ]
        }
      ]
    },
    {
      "cell_type": "code",
      "source": [
        "import os\n",
        "# 학습 이미지 확인하기\n",
        "train_list = []\n",
        "\n",
        "for label in class_names:\n",
        "    file_list = os.listdir(str(label))\n",
        "    #파일 경로\n",
        "    for file_name in file_list:\n",
        "        path =  str(label) + \"/\" + file_name\n",
        "        train_list.append((path, label))"
      ],
      "metadata": {
        "id": "KNeXf5rKa0d6"
      },
      "execution_count": 3,
      "outputs": []
    },
    {
      "cell_type": "code",
      "source": [
        "train_list"
      ],
      "metadata": {
        "id": "I8ZJXLMea3Km",
        "colab": {
          "base_uri": "https://localhost:8080/"
        },
        "outputId": "0429496f-d4ae-4a3d-8b25-442fe1861838"
      },
      "execution_count": 4,
      "outputs": [
        {
          "output_type": "execute_result",
          "data": {
            "text/plain": [
              "[('0/5bf3357a2823.png', 0),\n",
              " ('0/1ab8d3431ffc.png', 0),\n",
              " ('0/4bcee3cbe232.png', 0),\n",
              " ('0/6bf2a81a5d91.png', 0),\n",
              " ('0/18b99159a14f.png', 0),\n",
              " ('0/53ddae6a619e.png', 0),\n",
              " ('0/76cb010f7aa0.png', 0),\n",
              " ('0/1df1530b9b8d.png', 0),\n",
              " ('0/11d8e5eaee5b.png', 0),\n",
              " ('0/384e6c915722.png', 0),\n",
              " ('0/6dc07f968794.png', 0),\n",
              " ('0/41ab357d103f.png', 0),\n",
              " ('0/60aa4e649abf.png', 0),\n",
              " ('0/4e8585a96739.png', 0),\n",
              " ('0/3a4cfea0a766.png', 0),\n",
              " ('0/26cd40b57ad1.png', 0),\n",
              " ('0/1e036f2e7095.png', 0),\n",
              " ('0/7f2123bc89a3.png', 0),\n",
              " ('0/83d81ba5959c.png', 0),\n",
              " ('0/276b14f72328.png', 0),\n",
              " ('0/201f882365d3.png', 0),\n",
              " ('0/0f364b7d4384.png', 0),\n",
              " ('0/596f4fdb0004.png', 0),\n",
              " ('0/1df0a4c23c95.png', 0),\n",
              " ('0/93a1b984de84.png', 0),\n",
              " ('0/73ba798fee25.png', 0),\n",
              " ('0/94f9ecf4b8d2.png', 0),\n",
              " ('0/8ab3faa3701f.png', 0),\n",
              " ('0/69b3a00927fc.png', 0),\n",
              " ('0/4d17559ac1e2.png', 0),\n",
              " ('0/6e0f78e188ff.png', 0),\n",
              " ('0/1faf8664816c.png', 0),\n",
              " ('0/484dbeb9bf2a.png', 0),\n",
              " ('0/351e842842a2.png', 0),\n",
              " ('0/2da82d14e1b7.png', 0),\n",
              " ('0/15b21c80cc31.png', 0),\n",
              " ('0/44f7f3ef9d50.png', 0),\n",
              " ('0/1da4a17c18c9.png', 0),\n",
              " ('0/3bf2deaa5ef0.png', 0),\n",
              " ('0/96ce10a1dbd7.png', 0),\n",
              " ('0/39fd8ef3a45c.png', 0),\n",
              " ('0/5f6db235c04d.png', 0),\n",
              " ('0/4d3de40ced3a.png', 0),\n",
              " ('0/5de4615a5161.png', 0),\n",
              " ('0/8e76054f0831.png', 0),\n",
              " ('0/8a3eb86ae4bd.png', 0),\n",
              " ('0/80e6e425f966.png', 0),\n",
              " ('0/59bd19c1c5bb.png', 0),\n",
              " ('0/10de500cf0c5.png', 0),\n",
              " ('0/8ee50c26fc13.png', 0),\n",
              " ('0/35beb47fe159.png', 0),\n",
              " ('0/8d4ff745a409.png', 0),\n",
              " ('0/022f820027b8.png', 0),\n",
              " ('0/8a87dd2a784e.png', 0),\n",
              " ('0/537e5c578f40.png', 0),\n",
              " ('0/7adfb8fc0621.png', 0),\n",
              " ('0/1b8701231c8f.png', 0),\n",
              " ('0/4a96c28f3f07.png', 0),\n",
              " ('0/658ad9f09f5d.png', 0),\n",
              " ('0/8acdf12f412a.png', 0),\n",
              " ('0/9b4fc15df3c8.png', 0),\n",
              " ('0/8be6629a6039.png', 0),\n",
              " ('0/3b2b91590590.png', 0),\n",
              " ('0/07e827469099.png', 0),\n",
              " ('0/5eb8fb1aad41.png', 0),\n",
              " ('0/3f82631e9080.png', 0),\n",
              " ('0/5db2e3a4594a.png', 0),\n",
              " ('0/7eee3d1f1268.png', 0),\n",
              " ('0/1eee55494271.png', 0),\n",
              " ('0/8e6df9eedcd8.png', 0),\n",
              " ('0/03b373718013.png', 0),\n",
              " ('0/30db694bee42.png', 0),\n",
              " ('0/5a179c123fd8.png', 0),\n",
              " ('0/8bf05909e1e1.png', 0),\n",
              " ('0/0d8f60ed9280.png', 0),\n",
              " ('0/4ad8d3ec8789.png', 0),\n",
              " ('0/342edf9b889d.png', 0),\n",
              " ('0/103f97a2ab15.png', 0),\n",
              " ('0/1d46f1326394.png', 0),\n",
              " ('0/65dda202653d.png', 0),\n",
              " ('0/08c60c647673.png', 0),\n",
              " ('0/0eced86c9db8.png', 0),\n",
              " ('0/7a39c91416e2.png', 0),\n",
              " ('0/24de56d433cd.png', 0),\n",
              " ('0/215d2b7c3fde.png', 0),\n",
              " ('0/4dd14c380696.png', 0),\n",
              " ('0/1ca62b3e4fd3.png', 0),\n",
              " ('0/9ab18a4a957f.png', 0),\n",
              " ('0/2fdfb80ea53c.png', 0),\n",
              " ('0/2d04cead4d3a.png', 0),\n",
              " ('0/87b671c6d4c5.png', 0),\n",
              " ('0/415f2d2bd2a1.png', 0),\n",
              " ('0/0cae727cf119.png', 0),\n",
              " ('0/7f0ffeb0a333.png', 0),\n",
              " ('0/5f51192841f7.png', 0),\n",
              " ('0/0da321efbce6.png', 0),\n",
              " ('0/00cc2b75cddd.png', 0),\n",
              " ('0/2c827005b8f8.png', 0),\n",
              " ('0/7f43becd3e83.png', 0),\n",
              " ('0/75a4343b12f9.png', 0),\n",
              " ('0/1d2472849dce.png', 0),\n",
              " ('0/07a0be6b347f.png', 0),\n",
              " ('0/64ac539f58cb.png', 0),\n",
              " ('0/26d60db3bbfd.png', 0),\n",
              " ('0/5cbe88914a72.png', 0),\n",
              " ('0/6b664ed2a938.png', 0),\n",
              " ('0/5a27b9b2a9c1.png', 0),\n",
              " ('0/17d7d6b092f4.png', 0),\n",
              " ('0/27f82ada84ac.png', 0),\n",
              " ('0/0ae2dd2e09ea.png', 0),\n",
              " ('0/6f460f9968c7.png', 0),\n",
              " ('0/57a710de68a4.png', 0),\n",
              " ('0/7ccf9d25dc48.png', 0),\n",
              " ('0/5b1c4cefeb24.png', 0),\n",
              " ('0/77b7b71ebcc3.png', 0),\n",
              " ('0/65a7fe9482fe.png', 0),\n",
              " ('0/79ade634c633.png', 0),\n",
              " ('0/1a19f2ef4472.png', 0),\n",
              " ('0/63e041a757eb.png', 0),\n",
              " ('0/5b3d41626ec5.png', 0),\n",
              " ('0/2a4520f1f9a3.png', 0),\n",
              " ('0/7da558d92100.png', 0),\n",
              " ('0/2dd28ac497d2.png', 0),\n",
              " ('0/0da632ca45e0.png', 0),\n",
              " ('0/6de39b94f634.png', 0),\n",
              " ('0/76e5b50f95a7.png', 0),\n",
              " ('0/5e5275ddee29.png', 0),\n",
              " ('0/61c667663f2f.png', 0),\n",
              " ('0/5fcff7280019.png', 0),\n",
              " ('0/370f575adb23.png', 0),\n",
              " ('0/3fd45879afe6.png', 0),\n",
              " ('0/12b57dac703e.png', 0),\n",
              " ('0/9ac2e3e9fca5.png', 0),\n",
              " ('0/266fbefa58fb.png', 0),\n",
              " ('0/2eba4279e503.png', 0),\n",
              " ('0/58a9e0d7f7af.png', 0),\n",
              " ('0/83df53d58f28.png', 0),\n",
              " ('0/190a309f2cc5.png', 0),\n",
              " ('0/4a5a6efc0bef.png', 0),\n",
              " ('0/9a1029536d78.png', 0),\n",
              " ('0/357f02a779d7.png', 0),\n",
              " ('0/1db0393cdbc1.png', 0),\n",
              " ('0/7ed4128b2a4e.png', 0),\n",
              " ('0/84b79243e430.png', 0),\n",
              " ('0/86d58f850a0c.png', 0),\n",
              " ('0/1ca35d483772.png', 0),\n",
              " ('0/94b9ccc73bb9.png', 0),\n",
              " ('0/0e43c8298fc0.png', 0),\n",
              " ('0/6b66b0e86f7e.png', 0),\n",
              " ('0/4b237b958555.png', 0),\n",
              " ('0/4d167ca69ea8.png', 0),\n",
              " ('0/08f8838d69bb.png', 0),\n",
              " ('0/573ea80a53be.png', 0),\n",
              " ('0/8af50c9d0a86.png', 0),\n",
              " ('0/80dbeb0fdc75.png', 0),\n",
              " ('0/75ed83dbccce.png', 0),\n",
              " ('0/6d10709053ae.png', 0),\n",
              " ('0/7e5a76c4e103.png', 0),\n",
              " ('0/9d1feed37610.png', 0),\n",
              " ('0/61da799bf0aa.png', 0),\n",
              " ('0/1dfe599d12a9.png', 0),\n",
              " ('0/4dd4a4bf2421.png', 0),\n",
              " ('0/1f15ca672675.png', 0),\n",
              " ('0/92e3d608fd3c.png', 0),\n",
              " ('0/08b6e3240858.png', 0),\n",
              " ('0/7e77b61e1639.png', 0),\n",
              " ('0/6ccfdb031184.png', 0),\n",
              " ('0/1fb455685328.png', 0),\n",
              " ('0/3c42512c81e0.png', 0),\n",
              " ('0/82e5bc01f8a4.png', 0),\n",
              " ('0/2fefb720869a.png', 0),\n",
              " ('0/77a1f1398fdb.png', 0),\n",
              " ('0/5ca779ace6e7.png', 0),\n",
              " ('0/7a46cfa69bae.png', 0),\n",
              " ('0/2a93334f663a.png', 0),\n",
              " ('0/88e5051f65bd.png', 0),\n",
              " ('0/46acc506fa61.png', 0),\n",
              " ('0/7f6690fa390a.png', 0),\n",
              " ('0/3d2ecffe0386.png', 0),\n",
              " ('0/83fda7c0500b.png', 0),\n",
              " ('0/4c635a01593d.png', 0),\n",
              " ('0/9de9421f17e3.png', 0),\n",
              " ('0/75a071608ea6.png', 0),\n",
              " ('0/24f3e70f0419.png', 0),\n",
              " ('0/1c47815f4a6b.png', 0),\n",
              " ('0/5d9c841eb245.png', 0),\n",
              " ('0/7ee6de71c140.png', 0),\n",
              " ('0/4a1afe4044f4.png', 0),\n",
              " ('0/18cde9649e90.png', 0),\n",
              " ('0/65e6f1bd9875.png', 0),\n",
              " ('0/4d1e7def7624.png', 0),\n",
              " ('0/0dbe6c26cedc.png', 0),\n",
              " ('0/6e092caa065f.png', 0),\n",
              " ('0/233d948e2544.png', 0),\n",
              " ('0/345b1f0abbba.png', 0),\n",
              " ('0/58f07741ee3b.png', 0),\n",
              " ('0/90a786abe58e.png', 0),\n",
              " ('0/4f5dd7660b17.png', 0),\n",
              " ('0/3b9817a39adf.png', 0),\n",
              " ('0/1a0dbc6c0cda.png', 0),\n",
              " ('0/404ede327e98.png', 0),\n",
              " ('0/7ce671f952be.png', 0),\n",
              " ('0/2dc647e00ad3.png', 0),\n",
              " ('0/4cfd22ae43d4.png', 0),\n",
              " ('0/34acae864963.png', 0),\n",
              " ('0/150f92b45349.png', 0),\n",
              " ('0/1ee355480567.png', 0),\n",
              " ('0/64b9206afb3f.png', 0),\n",
              " ('0/6c4ec95dd8ba.png', 0),\n",
              " ('0/11b220a397b8.png', 0),\n",
              " ('0/8f10e41a2f02.png', 0),\n",
              " ('0/9c893e16c055.png', 0),\n",
              " ('0/0cd31078cd08.png', 0),\n",
              " ('0/01d9477b1171.png', 0),\n",
              " ('0/1c13a1483f4a.png', 0),\n",
              " ('0/4ef16a53d899.png', 0),\n",
              " ('0/4cf4d528c08e.png', 0),\n",
              " ('0/15c24478ac72.png', 0),\n",
              " ('0/43f22d1be8dd.png', 0),\n",
              " ('0/1f3f32efaf20.png', 0),\n",
              " ('0/50f5201fd18a.png', 0),\n",
              " ('0/6fbaaf8eb67a.png', 0),\n",
              " ('0/461fa5292fda.png', 0),\n",
              " ('0/415d5c5e785f.png', 0),\n",
              " ('0/0afbeeef0ff7.png', 0),\n",
              " ('0/6b30767595d8.png', 0),\n",
              " ('0/9be0683649ff.png', 0),\n",
              " ('0/7fc3a8bb40de.png', 0),\n",
              " ('0/0babc12807b2.png', 0),\n",
              " ('0/02cd34a85b24.png', 0),\n",
              " ('0/6e018411ba4a.png', 0),\n",
              " ('0/253e96488cfb.png', 0),\n",
              " ('0/9c514d2d5b3f.png', 0),\n",
              " ('0/83a63c4a3e4a.png', 0),\n",
              " ('0/12ef75375322.png', 0),\n",
              " ('0/8f9819752ca0.png', 0),\n",
              " ('0/0cecc2864b7f.png', 0),\n",
              " ('0/3f0d3629d69e.png', 0),\n",
              " ('0/6bcce181be65.png', 0),\n",
              " ('0/328d141ed3aa.png', 0),\n",
              " ('0/586f5c56081e.png', 0),\n",
              " ('0/5ca73d28f17f.png', 0),\n",
              " ('0/1a1e974a7dbf.png', 0),\n",
              " ('0/90bde2ff8953.png', 0),\n",
              " ('0/521b5377a727.png', 0),\n",
              " ('0/2db0cd3e30da.png', 0),\n",
              " ('0/164cd5a3a6cd.png', 0),\n",
              " ('0/42af7282349b.png', 0),\n",
              " ('0/75c180e04f65.png', 0),\n",
              " ('0/054b1b305160.png', 0),\n",
              " ('0/40dd4e6e4444.png', 0),\n",
              " ('0/7a77c3eb468c.png', 0),\n",
              " ('0/0d0b8fc9ab5c.png', 0),\n",
              " ('0/5f4a8c074bd5.png', 0),\n",
              " ('0/189cbbc9e5e3.png', 0),\n",
              " ('0/1cc58b15f466.png', 0),\n",
              " ('0/6c3589d7ed8d.png', 0),\n",
              " ('0/6f0e5848d9ce.png', 0),\n",
              " ('0/8aa3c4681542.png', 0),\n",
              " ('0/62b4be2799ca.png', 0),\n",
              " ('0/6fe67fd7f5d1.png', 0),\n",
              " ('0/4e85aa647534.png', 0),\n",
              " ('0/73ef3c3dcbe4.png', 0),\n",
              " ('0/84b472c49cfa.png', 0),\n",
              " ('0/0d9a9896f801.png', 0),\n",
              " ('0/210bfe0127c6.png', 0),\n",
              " ('0/0232dfea7547.png', 0),\n",
              " ('0/306c841af3fc.png', 0),\n",
              " ('0/8f06ca4642bd.png', 0),\n",
              " ('0/1e8c31e29dd3.png', 0),\n",
              " ('0/393fa5a023a5.png', 0),\n",
              " ('0/2bb3c492d6d3.png', 0),\n",
              " ('0/4e231670b48c.png', 0),\n",
              " ('0/155e2df6bfcf.png', 0),\n",
              " ('0/00f6c1be5a33.png', 0),\n",
              " ('0/19b0e3c734f5.png', 0),\n",
              " ('0/0e0003ddd8df.png', 0),\n",
              " ('0/7bc00e58d419.png', 0),\n",
              " ('0/4e54ccfd49b2.png', 0),\n",
              " ('0/1cb6961d141c.png', 0),\n",
              " ('0/226c6ceb9185.png', 0),\n",
              " ('0/103abbd8b63e.png', 0),\n",
              " ('0/6cffc6c6851a.png', 0),\n",
              " ('0/80c67efc8101.png', 0),\n",
              " ('0/26fc2358a38d.png', 0),\n",
              " ('0/3b10191dfd25.png', 0),\n",
              " ('0/4dd7b322f342.png', 0),\n",
              " ('0/3cd9713c0ecb.png', 0),\n",
              " ('0/0daddc45d832.png', 0),\n",
              " ('0/28dc010a0780.png', 0),\n",
              " ('0/5d6239c0fd39.png', 0),\n",
              " ('0/4cddfc22b0ad.png', 0),\n",
              " ('0/0b00f8a77510.png', 0),\n",
              " ('0/486e852a3b4d.png', 0),\n",
              " ('0/33d72035c27a.png', 0),\n",
              " ('0/283c3aeba594.png', 0),\n",
              " ('0/511fd66b2df8.png', 0),\n",
              " ('0/1d0b93317aa8.png', 0),\n",
              " ('0/8c4ceddeb1c6.png', 0),\n",
              " ('0/291f581d365e.png', 0),\n",
              " ('0/71e43b4f8ba6.png', 0),\n",
              " ('0/44a86263117b.png', 0),\n",
              " ('0/500aad15b7c8.png', 0),\n",
              " ('0/81d79d53ed7b.png', 0),\n",
              " ('0/4cde86044ad1.png', 0),\n",
              " ('0/4c5ab774a381.png', 0),\n",
              " ('0/7e70344b0c25.png', 0),\n",
              " ('0/76f3473df8a6.png', 0),\n",
              " ('0/633fe9dbaf39.png', 0),\n",
              " ('0/401fdfd0db07.png', 0),\n",
              " ('0/63c0eafd6aa9.png', 0),\n",
              " ('0/201f6e10c108.png', 0),\n",
              " ('0/0fbbd665431f.png', 0),\n",
              " ('0/7ba6b23c4b46.png', 0),\n",
              " ('0/50ddd7d976df.png', 0),\n",
              " ('0/9e2ba2b979f1.png', 0),\n",
              " ('0/5e97cb2b0888.png', 0),\n",
              " ('0/7af4d8704032.png', 0),\n",
              " ('0/224c14366e11.png', 0),\n",
              " ('0/51af8a689511.png', 0),\n",
              " ('0/2c77bf969079.png', 0),\n",
              " ('0/8ead17dfb6a6.png', 0),\n",
              " ('0/9bd008aab548.png', 0),\n",
              " ('0/15e24b73d4a7.png', 0),\n",
              " ('0/0a85a1e8f9e9.png', 0),\n",
              " ('0/5e505e25cd3e.png', 0),\n",
              " ('0/98d41bce73a8.png', 0),\n",
              " ('0/6af071b0ac6e.png', 0),\n",
              " ('0/40c24aded50c.png', 0),\n",
              " ('0/6e44f6d04fc9.png', 0),\n",
              " ('0/2ef10194e80d.png', 0),\n",
              " ('0/97fdee242fea.png', 0),\n",
              " ('0/7f1f3269f546.png', 0),\n",
              " ('0/08bef347f40d.png', 0),\n",
              " ('0/4eabad7948cf.png', 0),\n",
              " ('0/668a319c2d23.png', 0),\n",
              " ('0/9a56cfb980ec.png', 0),\n",
              " ('0/92fcf50b3562.png', 0),\n",
              " ('0/609be3ca5ddf.png', 0),\n",
              " ('0/6b3860e8f64f.png', 0),\n",
              " ('0/1df0431bfa73.png', 0),\n",
              " ('0/3b0190bbe615.png', 0),\n",
              " ('0/5c817060c0ed.png', 0),\n",
              " ('0/7c3747c0b2c3.png', 0),\n",
              " ('0/8ed586c43023.png', 0),\n",
              " ('0/260a455692b5.png', 0),\n",
              " ('0/33b978734eab.png', 0),\n",
              " ('0/4beeca5cc859.png', 0),\n",
              " ('0/8a8a251770cd.png', 0),\n",
              " ('0/6f689fced922.png', 0),\n",
              " ('0/1f9ccda4ddf2.png', 0),\n",
              " ('0/5bea250d8bf5.png', 0),\n",
              " ('0/6a57a3db3eff.png', 0),\n",
              " ('0/14c3b41d289c.png', 0),\n",
              " ('0/87a9f4d20f07.png', 0),\n",
              " ('0/49eb73968c44.png', 0),\n",
              " ('0/58af2c054ced.png', 0),\n",
              " ('0/6cee2e148520.png', 0),\n",
              " ('0/598b8f5b3822.png', 0),\n",
              " ('0/10f10fd30718.png', 0),\n",
              " ('0/3ac92ac3d65a.png', 0),\n",
              " ('0/6e1db8711879.png', 0),\n",
              " ('0/0cb6b898389f.png', 0),\n",
              " ('0/8e4a354e3da2.png', 0),\n",
              " ('0/48a45619d1a3.png', 0),\n",
              " ('0/2a2274bcb00a.png', 0),\n",
              " ('0/606daaf0bfc7.png', 0),\n",
              " ('0/9ed6c2b25767.png', 0),\n",
              " ('0/6d6fcf49e515.png', 0),\n",
              " ('0/10bf25731c08.png', 0),\n",
              " ('0/3fe282197c1c.png', 0),\n",
              " ('0/263d8851e33b.png', 0),\n",
              " ('0/7b87b0015282.png', 0),\n",
              " ('0/5ac7a414560e.png', 0),\n",
              " ('0/0a4e1a29ffff.png', 0),\n",
              " ('0/5db895d3f1fc.png', 0),\n",
              " ('0/1f5496352859.png', 0),\n",
              " ('0/9b57e43b44e7.png', 0),\n",
              " ('0/2f143453bb71.png', 0),\n",
              " ('0/29d059522fa1.png', 0),\n",
              " ('0/4c60f6fcea75.png', 0),\n",
              " ('0/4ab8c0cece7f.png', 0),\n",
              " ('0/5baed382f062.png', 0),\n",
              " ('0/4ec7796df40e.png', 0),\n",
              " ('0/0212dd31f623.png', 0),\n",
              " ('0/4f6abc40c72d.png', 0),\n",
              " ('0/43e9c66eb0f3.png', 0),\n",
              " ('0/150fc7127582.png', 0),\n",
              " ('0/54f57cf26126.png', 0),\n",
              " ('0/9e99ae6ee7af.png', 0),\n",
              " ('0/445a8a6da55c.png', 0),\n",
              " ('0/1d37f1c8b6d8.png', 0),\n",
              " ('0/5a444c32cd9a.png', 0),\n",
              " ('0/5a93c0f783c4.png', 0),\n",
              " ('0/7b691d9ced34.png', 0),\n",
              " ('0/38f1901f214a.png', 0),\n",
              " ('0/8e67f2d7e0ee.png', 0),\n",
              " ('0/84b88e8d3bca.png', 0),\n",
              " ('0/4c389d033cb0.png', 0),\n",
              " ('0/6f3b62e5b7f5.png', 0),\n",
              " ('0/242fc19be06f.png', 0),\n",
              " ('0/191cf5668f33.png', 0),\n",
              " ('0/05e9126dfa5c.png', 0),\n",
              " ('0/1caba2fb38f6.png', 0),\n",
              " ('0/0304bedad8fe.png', 0),\n",
              " ('0/0a38b552372d.png', 0),\n",
              " ('0/7d48f8cdfb69.png', 0),\n",
              " ('0/76df141d966b.png', 0),\n",
              " ('0/13d014ccd136.png', 0),\n",
              " ('0/63b71347e95d.png', 0),\n",
              " ('0/4b6895d0cf8d.png', 0),\n",
              " ('0/73d40ce06a67.png', 0),\n",
              " ('0/51cd8d2057fa.png', 0),\n",
              " ('0/454a944eb557.png', 0),\n",
              " ('0/4a05f81b3aba.png', 0),\n",
              " ('0/9a159d4674cd.png', 0),\n",
              " ('0/6a2c3f4ef329.png', 0),\n",
              " ('0/36e4b704b905.png', 0),\n",
              " ('0/7e9081e95bf6.png', 0),\n",
              " ('0/77acc2cafee1.png', 0),\n",
              " ('0/691eeb59b4cb.png', 0),\n",
              " ('0/96ea316ed0ab.png', 0),\n",
              " ('0/33b91def2035.png', 0),\n",
              " ('0/97a235367f9d.png', 0),\n",
              " ('0/33e7bf536fc5.png', 0),\n",
              " ('0/2c8101f14723.png', 0),\n",
              " ('0/8e2a3978c244.png', 0),\n",
              " ('0/5a0fe0ee4301.png', 0),\n",
              " ('0/3f98be586fe3.png', 0),\n",
              " ('0/5c85d22bd0de.png', 0),\n",
              " ('0/6d4f6c9a8406.png', 0),\n",
              " ('0/0d744aed4d64.png', 0),\n",
              " ('0/240b25a7debe.png', 0),\n",
              " ('0/0097f532ac9f.png', 0),\n",
              " ('0/63c7b0265775.png', 0),\n",
              " ('0/88e4399d207c.png', 0),\n",
              " ('0/06be1092a062.png', 0),\n",
              " ('0/9c6512166557.png', 0),\n",
              " ('0/5ba156a35ff2.png', 0),\n",
              " ('0/32ed318235b8.png', 0),\n",
              " ('0/005b95c28852.png', 0),\n",
              " ('0/0a902c80d5da.png', 0),\n",
              " ('0/3c28fd846b43.png', 0),\n",
              " ('0/8d4d14a4ab07.png', 0),\n",
              " ('0/8a7765e785fb.png', 0),\n",
              " ('0/705f508d1e42.png', 0),\n",
              " ('0/9b70f84400af.png', 0),\n",
              " ('0/8c29a76fa08c.png', 0),\n",
              " ('0/8ffa608170d3.png', 0),\n",
              " ('0/13c191b59ed0.png', 0),\n",
              " ('0/9e5737f771c3.png', 0),\n",
              " ('0/12ae44be0d38.png', 0),\n",
              " ('0/2f7fbdcc9a4b.png', 0),\n",
              " ('0/0c43c79e8cfb.png', 0),\n",
              " ('0/2b4c7b5f1f1e.png', 0),\n",
              " ('0/4a4cb731f91a.png', 0),\n",
              " ('0/0b2ea8f268cf.png', 0),\n",
              " ('0/519c6e8f78dc.png', 0),\n",
              " ('0/7a9f45fdf29b.png', 0),\n",
              " ('0/73a07e2ea23e.png', 0),\n",
              " ('0/18b7e34eab8f.png', 0),\n",
              " ('0/9e2a8135f471.png', 0),\n",
              " ('0/80b5697f2a5e.png', 0),\n",
              " ('0/093cf723fede.png', 0),\n",
              " ('0/1c9c583c10bf.png', 0),\n",
              " ('0/3a643599f852.png', 0),\n",
              " ('0/5b2648ad455e.png', 0),\n",
              " ('0/2a2a6435f7f3.png', 0),\n",
              " ('0/3f6bccf21ce8.png', 0),\n",
              " ('0/2d558de2cabe.png', 0),\n",
              " ('0/66bfec8d6bcd.png', 0),\n",
              " ('0/4b6cb0bcfd44.png', 0),\n",
              " ('0/1db6bb46c102.png', 0),\n",
              " ('0/08ee569d4721.png', 0),\n",
              " ('0/77ab222bf85c.png', 0),\n",
              " ('0/07f5d7baf907.png', 0),\n",
              " ('0/318eb706a134.png', 0),\n",
              " ('0/82d364726a58.png', 0),\n",
              " ('0/0cbcc7b23613.png', 0),\n",
              " ('0/7ec0e61a7e29.png', 0),\n",
              " ('0/9ac41b9a809e.png', 0),\n",
              " ('0/1d29cb2f4296.png', 0),\n",
              " ('0/32d7d360d891.png', 0),\n",
              " ('0/540e4973829e.png', 0),\n",
              " ('0/8b8fe3fc8950.png', 0),\n",
              " ('0/96c699221180.png', 0),\n",
              " ('0/22d843b2bbd1.png', 0),\n",
              " ('0/9ae54843c69a.png', 0),\n",
              " ('0/10f6ef37fe43.png', 0),\n",
              " ('0/0c38940e1f80.png', 0),\n",
              " ('0/65f69234c8a7.png', 0),\n",
              " ('0/7d11dbc1e738.png', 0),\n",
              " ('0/10a5026eb8e6.png', 0),\n",
              " ('0/8e7981855125.png', 0),\n",
              " ('0/8b568d47a1fd.png', 0),\n",
              " ('0/9ba469af2980.png', 0),\n",
              " ('0/17e6116b89b3.png', 0),\n",
              " ('0/80ed04a84a16.png', 0),\n",
              " ('0/67ed8cc78b97.png', 0),\n",
              " ('0/6d9effbcde78.png', 0),\n",
              " ('0/7a12f49e29df.png', 0),\n",
              " ('0/9fa02dfb5553.png', 0),\n",
              " ('0/0db1d8dcf219.png', 0),\n",
              " ('0/17d997fe1090.png', 0),\n",
              " ('0/4c53cc97ea13.png', 0),\n",
              " ('0/0f6e645466a2.png', 0),\n",
              " ('0/0b3efe669365.png', 0),\n",
              " ('0/8b079e79035f.png', 0),\n",
              " ('0/5ead17e894ae.png', 0),\n",
              " ('0/84b4da14bc23.png', 0),\n",
              " ('0/9d62478042b6.png', 0),\n",
              " ('0/197af0de76e2.png', 0),\n",
              " ('0/3cdef7c591cc.png', 0),\n",
              " ('0/274f4de2a59d.png', 0),\n",
              " ('0/2b3a4a81d748.png', 0),\n",
              " ('0/555d0bef3c5b.png', 0),\n",
              " ('0/57db4781e7ec.png', 0),\n",
              " ('0/2ef4a04aed1b.png', 0),\n",
              " ('0/90a9a41eec6d.png', 0),\n",
              " ('0/002c21358ce6.png', 0),\n",
              " ('0/67d8f94f04e0.png', 0),\n",
              " ('0/6c6505a0c637.png', 0),\n",
              " ('0/165c548185f8.png', 0),\n",
              " ('0/3dec415b188a.png', 0),\n",
              " ('0/79cbae28d8b2.png', 0),\n",
              " ('0/571bbdbf585e.png', 0),\n",
              " ('0/24f271c87e73.png', 0),\n",
              " ('0/7ad0c4975890.png', 0),\n",
              " ('0/15f8d769935c.png', 0),\n",
              " ('0/8ead8f37423c.png', 0),\n",
              " ('0/13d411c85ffd.png', 0),\n",
              " ('0/55f7f018c61c.png', 0),\n",
              " ('0/0b8bdec9d869.png', 0),\n",
              " ('0/60edda7b4871.png', 0),\n",
              " ('0/96b5474ae604.png', 0),\n",
              " ('0/29a13e666266.png', 0),\n",
              " ('0/4faf4063db8c.png', 0),\n",
              " ('0/186c1835eec5.png', 0),\n",
              " ('0/184a185e7447.png', 0),\n",
              " ('0/01f7bb8be950.png', 0),\n",
              " ('0/5b32ece9c627.png', 0),\n",
              " ('0/9f935fb38440.png', 0),\n",
              " ('0/7e980424868e.png', 0),\n",
              " ('0/7d94a000c2d0.png', 0),\n",
              " ('0/0125fbd2e791.png', 0),\n",
              " ('0/7f2cce721e19.png', 0),\n",
              " ('0/1e7ccd4a1c87.png', 0),\n",
              " ('0/0abf0c485f66.png', 0),\n",
              " ('0/97d02a9b94f7.png', 0),\n",
              " ('0/8d9516ea3587.png', 0),\n",
              " ('0/28f73575e1f2.png', 0),\n",
              " ('0/3bf3085ac167.png', 0),\n",
              " ('0/42c65af5ab16.png', 0),\n",
              " ('0/6cb96a6fb029.png', 0),\n",
              " ('0/0fc6829da85b.png', 0),\n",
              " ('0/57f5ad4b5b29.png', 0),\n",
              " ('0/3ce2f8a77a32.png', 0),\n",
              " ('0/97f290d31813.png', 0),\n",
              " ('0/62b826899151.png', 0),\n",
              " ('0/1d74c4713e21.png', 0),\n",
              " ('0/6fe4751a3b42.png', 0),\n",
              " ('0/29f9e1ac9507.png', 0),\n",
              " ('0/2b2f5a0f880d.png', 0),\n",
              " ('0/3ca12e02dd4e.png', 0),\n",
              " ('0/39f8935185e6.png', 0),\n",
              " ('0/64c6c6ee0d98.png', 0),\n",
              " ('0/9c14ce27cbfc.png', 0),\n",
              " ('0/7b9d519cbd66.png', 0),\n",
              " ('0/05b1bb2bdb81.png', 0),\n",
              " ('0/87d46b1cc4e9.png', 0),\n",
              " ('0/7be1b9aa78aa.png', 0),\n",
              " ('0/49e4b95ee2dc.png', 0),\n",
              " ('0/58c12863f33d.png', 0),\n",
              " ('0/4a589edaea60.png', 0),\n",
              " ('0/99c6a123ed6a.png', 0),\n",
              " ('0/4ccee4db09b6.png', 0),\n",
              " ('0/2cfe8703f265.png', 0),\n",
              " ('0/070d4ce5fd90.png', 0),\n",
              " ('0/5d3c8c1f57da.png', 0),\n",
              " ('0/80f6b30ece8c.png', 0),\n",
              " ('0/43bc7c066dfb.png', 0),\n",
              " ('0/54bdcdecd8f3.png', 0),\n",
              " ('0/6b91e99c9408.png', 0),\n",
              " ('0/4aa3d771c5e4.png', 0),\n",
              " ('0/98e44127872f.png', 0),\n",
              " ('0/3abac0961bfd.png', 0),\n",
              " ('0/4e1e252317b5.png', 0),\n",
              " ('0/1d3e9b939732.png', 0),\n",
              " ('0/6c9c902a97de.png', 0),\n",
              " ('0/6df8b7b6e837.png', 0),\n",
              " ('0/2cf18033da31.png', 0),\n",
              " ('0/5b47043942f4.png', 0),\n",
              " ('0/20f86e068276.png', 0),\n",
              " ('0/91b7a4179ecf.png', 0),\n",
              " ('0/9a326446c431.png', 0),\n",
              " ('0/3f44d749cd0b.png', 0),\n",
              " ('0/9cf7c1349673.png', 0),\n",
              " ('0/7aabd768abff.png', 0),\n",
              " ('0/6c00dd8bf708.png', 0),\n",
              " ('0/6e861bc3bd7b.png', 0),\n",
              " ('0/2f81ee5f2926.png', 0),\n",
              " ('0/2b10f138e67d.png', 0),\n",
              " ('0/628b581aa905.png', 0),\n",
              " ('0/0b64a0a06f9a.png', 0),\n",
              " ('0/9d75de31f1b8.png', 0),\n",
              " ('0/174db0854291.png', 0),\n",
              " ('0/2d3f4094c08a.png', 0),\n",
              " ('0/5b994ff78547.png', 0),\n",
              " ('0/35ac70c0d08f.png', 0),\n",
              " ('0/0fe31196e0e8.png', 0),\n",
              " ('0/493d99f030e2.png', 0),\n",
              " ('0/286e9981dd9b.png', 0),\n",
              " ('0/4c6c5a1bf5ab.png', 0),\n",
              " ('0/12bc439d373a.png', 0),\n",
              " ('0/2a7373eeb352.png', 0),\n",
              " ('0/04efb1a284cc.png', 0),\n",
              " ('0/61a62b1dcc36.png', 0),\n",
              " ('0/02da652c74b8.png', 0),\n",
              " ('0/0a74c92e287c.png', 0),\n",
              " ('0/1f4fb37e0854.png', 0),\n",
              " ('0/084c02cf077f.png', 0),\n",
              " ('0/7a42443ed106.png', 0),\n",
              " ('0/9bbb6c455913.png', 0),\n",
              " ('0/9f1b14dfa14c.png', 0),\n",
              " ('0/34a7dbd3f05c.png', 0),\n",
              " ('0/0e94cd271c00.png', 0),\n",
              " ('0/71c22da3d6c6.png', 0),\n",
              " ('0/37c523296d42.png', 0),\n",
              " ('0/5ce5eeaf757a.png', 0),\n",
              " ('0/565f3404f9b2.png', 0),\n",
              " ('0/65a3b13ad9a0.png', 0),\n",
              " ('0/5d5b5da5f939.png', 0),\n",
              " ('0/72c31aa48e2c.png', 0),\n",
              " ('0/7eeb191ad06b.png', 0),\n",
              " ('0/6a2642131e4a.png', 0),\n",
              " ('0/4e4a6224a04e.png', 0),\n",
              " ('0/65cf00be6fb4.png', 0),\n",
              " ('0/720b5f62ce80.png', 0),\n",
              " ('0/2ef955d6d9ff.png', 0),\n",
              " ('0/69f43381317b.png', 0),\n",
              " ('0/2cacdb0dffae.png', 0),\n",
              " ('0/07a2b8cabf6b.png', 0),\n",
              " ('0/8ceff4c4c860.png', 0),\n",
              " ('0/7d0a871c45db.png', 0),\n",
              " ('0/8dafa62f9322.png', 0),\n",
              " ('0/5d4e5fd34d91.png', 0),\n",
              " ('0/35cd9832fc0a.png', 0),\n",
              " ('0/4bd5d0b30198.png', 0),\n",
              " ('0/504a69096fcb.png', 0),\n",
              " ('0/9e2058917304.png', 0),\n",
              " ('0/4ffa38550c95.png', 0),\n",
              " ('0/0ce062f26edc.png', 0),\n",
              " ('0/501c319f7a9f.png', 0),\n",
              " ('0/91f3c4c1e72b.png', 0),\n",
              " ('0/51a078d6d43a.png', 0),\n",
              " ('0/8bf2d925dc0c.png', 0),\n",
              " ('0/3cab32dd6ef9.png', 0),\n",
              " ('0/61d9c88a3a4b.png', 0),\n",
              " ('0/218c822a3dd9.png', 0),\n",
              " ('0/69c4cbb630de.png', 0),\n",
              " ('0/50d8249f7bc9.png', 0),\n",
              " ('0/9f8112c710be.png', 0),\n",
              " ('0/04aef84a2cc1.png', 0),\n",
              " ('0/35df2bc6ae95.png', 0),\n",
              " ('0/6a905a7202d2.png', 0),\n",
              " ('0/315c1a0d87fd.png', 0),\n",
              " ('0/692e946b1f85.png', 0),\n",
              " ('0/8c84e96d9b01.png', 0),\n",
              " ('0/5ad3dabeb2cd.png', 0),\n",
              " ('0/9ce46d400cd6.png', 0),\n",
              " ('0/5bf6f2958e53.png', 0),\n",
              " ('0/76cab26493f1.png', 0),\n",
              " ('0/7f39c36469b5.png', 0),\n",
              " ('0/76bc31e0d3be.png', 0),\n",
              " ('0/152db3de8120.png', 0),\n",
              " ('0/58eb3809f456.png', 0),\n",
              " ('0/3e61703b5ab2.png', 0),\n",
              " ('0/09c8323c612e.png', 0),\n",
              " ('0/97c6cb55866d.png', 0),\n",
              " ('0/93d6d20a5ee3.png', 0),\n",
              " ('0/2c9dfc270f1b.png', 0),\n",
              " ('0/8a482c024fc2.png', 0),\n",
              " ('0/8b58f9a338e8.png', 0),\n",
              " ('0/1e742358e0b9.png', 0),\n",
              " ('0/4eaf2f81819d.png', 0),\n",
              " ('0/76b950c6ed5e.png', 0),\n",
              " ('0/050bb1eafa76.png', 0),\n",
              " ('0/436fa3fd145a.png', 0),\n",
              " ('0/9be71d6d7e59.png', 0),\n",
              " ('0/91e82fe4e434.png', 0),\n",
              " ('0/8fbb2ca39911.png', 0),\n",
              " ('0/8a81f62320d6.png', 0),\n",
              " ('0/77e15f213b04.png', 0),\n",
              " ('0/6c30dd481717.png', 0),\n",
              " ('0/44a4d04162cc.png', 0),\n",
              " ('0/1f31701dd61b.png', 0),\n",
              " ('0/143db89c11c8.png', 0),\n",
              " ('0/3c9529918097.png', 0),\n",
              " ('0/66b88a4bc474.png', 0),\n",
              " ('0/3ca8be3b40d6.png', 0),\n",
              " ('0/248dec89b3a2.png', 0),\n",
              " ('0/1fddd7c98fd2.png', 0),\n",
              " ('0/38c7153457e2.png', 0),\n",
              " ('0/2cdcc910778d.png', 0),\n",
              " ('0/7fe7309d0b4f.png', 0),\n",
              " ('0/0e3572b5884a.png', 0),\n",
              " ('0/9e7a63b2fc6a.png', 0),\n",
              " ('0/1b862fb6f65d.png', 0),\n",
              " ('0/7fdb177b8f7d.png', 0),\n",
              " ('0/3c326543fff6.png', 0),\n",
              " ('0/8f14bca04b47.png', 0),\n",
              " ('0/70d0392397de.png', 0),\n",
              " ('0/3af9aaa880e9.png', 0),\n",
              " ('0/7a6495a39d87.png', 0),\n",
              " ('0/17f6c7072f61.png', 0),\n",
              " ('0/2d07162a13b1.png', 0),\n",
              " ('0/237aa50edc34.png', 0),\n",
              " ('0/3b5dffe159b6.png', 0),\n",
              " ('0/7c6594b50690.png', 0),\n",
              " ('0/51aa3361294c.png', 0),\n",
              " ('0/53c874dbc594.png', 0),\n",
              " ('0/684dd88a0d49.png', 0),\n",
              " ('0/1b3647865779.png', 0),\n",
              " ('0/52ddde91a349.png', 0),\n",
              " ('0/99c626e58464.png', 0),\n",
              " ('0/54b322c66d01.png', 0),\n",
              " ('0/4fd5ec0dca09.png', 0),\n",
              " ('0/51e656e5a541.png', 0),\n",
              " ('0/25a0a1e41afd.png', 0),\n",
              " ('0/9f285b3e57ed.png', 0),\n",
              " ('0/207dd0487264.png', 0),\n",
              " ('0/6e3526053de0.png', 0),\n",
              " ('0/436e7a7af761.png', 0),\n",
              " ('0/1ca91751be4d.png', 0),\n",
              " ('0/68ddb15a74de.png', 0),\n",
              " ('0/7c2e852171c0.png', 0),\n",
              " ('0/7ddcfcea7369.png', 0),\n",
              " ('0/2b5bb6d33959.png', 0),\n",
              " ('0/384db24ebbd7.png', 0),\n",
              " ('0/25b4080f598b.png', 0),\n",
              " ('0/85f99e7e4052.png', 0),\n",
              " ('0/0ef4c61dc056.png', 0),\n",
              " ('0/65f5d2a6eb7e.png', 0),\n",
              " ('0/7a06ea127e02.png', 0),\n",
              " ('0/8d13c46e7d75.png', 0),\n",
              " ('0/6d6be4cfc73f.png', 0),\n",
              " ('0/3f6c627e2ff2.png', 0),\n",
              " ('0/525d0dd8dc45.png', 0),\n",
              " ('0/09f1111a388a.png', 0),\n",
              " ('0/1c7a013eeba7.png', 0),\n",
              " ('0/72a867980067.png', 0),\n",
              " ('0/42b9c1977681.png', 0),\n",
              " ('0/060e00d1e2ab.png', 0),\n",
              " ('0/2f8d14a7d390.png', 0),\n",
              " ('0/12ab2f6397f0.png', 0),\n",
              " ('0/4c17e85686f0.png', 0),\n",
              " ('0/1b398c0494d1.png', 0),\n",
              " ('0/18ce0cdc473d.png', 0),\n",
              " ('0/478fc46eaa49.png', 0),\n",
              " ('0/1ec95179cdfe.png', 0),\n",
              " ('0/6bb30ec3231a.png', 0),\n",
              " ('0/6d5a8362dd1e.png', 0),\n",
              " ('0/1ae3c58759fb.png', 0),\n",
              " ('0/57a5e4274275.png', 0),\n",
              " ('0/6bf26b777e3a.png', 0),\n",
              " ('0/52edbe29d655.png', 0),\n",
              " ('0/359bab5d784b.png', 0),\n",
              " ('0/675de69373f8.png', 0),\n",
              " ('0/26d9576e8043.png', 0),\n",
              " ('0/6dc0281f11e3.png', 0),\n",
              " ('0/5ea9e447bb62.png', 0),\n",
              " ('0/289a47dcbb82.png', 0),\n",
              " ('1/c76664770c07.png', 1),\n",
              " ('1/1c5e6cdc7ee1.png', 1),\n",
              " ('1/5633ced07d8e.png', 1),\n",
              " ('1/38055d8b9f08.png', 1),\n",
              " ('1/378963f9df22.png', 1),\n",
              " ('1/916ec976ff30.png', 1),\n",
              " ('1/2665f72e2dd3.png', 1),\n",
              " ('1/46cdc8b685bd.png', 1),\n",
              " ('1/358d2224de73.png', 1),\n",
              " ('1/03c85870824c.png', 1),\n",
              " ('1/4c129470cec4.png', 1),\n",
              " ('1/0e0fc1d9810c.png', 1),\n",
              " ('1/4a693dd3921a.png', 1),\n",
              " ('1/99ecdb41d5e7.png', 1),\n",
              " ('1/6f923b60934b.png', 1),\n",
              " ('1/7e4019ac7f5a.png', 1),\n",
              " ('1/789434d095d1.png', 1),\n",
              " ('1/2b88cb6e31cd.png', 1),\n",
              " ('1/06b71823f9cd.png', 1),\n",
              " ('1/95a4cc805c7b.png', 1),\n",
              " ('1/788ddb0b70b7.png', 1),\n",
              " ('1/001639a390f0.png', 1),\n",
              " ('1/62318d514160.png', 1),\n",
              " ('1/5eb311bcb5f9.png', 1),\n",
              " ('1/36b5b3c9fb32.png', 1),\n",
              " ('1/05a5183c92d0.png', 1),\n",
              " ('1/1ffaa51a6245.png', 1),\n",
              " ('1/35d6c4c50072.png', 1),\n",
              " ('1/2f5c9cdfb333.png', 1),\n",
              " ('1/03a7f4a5786f.png', 1),\n",
              " ('1/a11bf2edd470.png', 1),\n",
              " ('1/2b074afdf626.png', 1),\n",
              " ('1/6c250a30593b.png', 1),\n",
              " ('1/5efa24b03d5e.png', 1),\n",
              " ('1/000c1434d8d7.png', 1),\n",
              " ('1/0c55d58bebaf.png', 1),\n",
              " ('1/6fe67482bfae.png', 1),\n",
              " ('1/281d7b7c7676.png', 1),\n",
              " ('1/3cd801ffdbf0.png', 1),\n",
              " ('1/6d292ca4c9ad.png', 1),\n",
              " ('1/21d18b022429.png', 1),\n",
              " ('1/191a711852bd.png', 1),\n",
              " ('1/25e9fd872182.png', 1),\n",
              " ('1/61e301bd3c25.png', 1),\n",
              " ('1/82bb8a01935f.png', 1),\n",
              " ('1/bb7e0a2544cd.png', 1),\n",
              " ('1/187f6ccda87a.png', 1),\n",
              " ('1/0dce95217626.png', 1),\n",
              " ('1/7d3835e4e63a.png', 1),\n",
              " ('1/7b20210d9120.png', 1),\n",
              " ('1/7e6e90a93aa5.png', 1),\n",
              " ('1/5cc6dea19614.png', 1),\n",
              " ('1/8a25a080f28f.png', 1),\n",
              " ('1/52ae917fcea4.png', 1),\n",
              " ('1/5e18af29d812.png', 1),\n",
              " ('1/0af296d2f04a.png', 1),\n",
              " ('1/8c7c26c52a6c.png', 1),\n",
              " ('1/4462fba1d2a1.png', 1),\n",
              " ('1/6181aa9f75f4.png', 1),\n",
              " ('1/4fef9ed8a4c5.png', 1),\n",
              " ('1/3cdda8b3df19.png', 1),\n",
              " ('1/6cb98da77e3e.png', 1),\n",
              " ('1/8ac0c44bbf24.png', 1),\n",
              " ('1/2ba0b0d9bda2.png', 1),\n",
              " ('1/613bacb35c05.png', 1),\n",
              " ('1/22a6da005395.png', 1),\n",
              " ('1/6b07971c3bf6.png', 1),\n",
              " ('1/6089fa333013.png', 1),\n",
              " ('1/1f07dae3cadb.png', 1),\n",
              " ('1/0c2e2369dfff.png', 1),\n",
              " ('1/4ccfa0b4e96c.png', 1),\n",
              " ('1/66cd9c28e636.png', 1),\n",
              " ('1/6b869f37cdf3.png', 1),\n",
              " ('1/269b44e628eb.png', 1),\n",
              " ('1/85cbb84ac8e0.png', 1),\n",
              " ('1/64bad93fde3f.png', 1),\n",
              " ('1/613028ede6a0.png', 1),\n",
              " ('1/45e4b7eada54.png', 1),\n",
              " ('1/3e6bfc4d5c65.png', 1),\n",
              " ('1/89d9c071a56f.png', 1),\n",
              " ('1/6f4e0538d1e4.png', 1),\n",
              " ('1/61bbe8db6f3a.png', 1),\n",
              " ('1/5a091e8cd95c.png', 1),\n",
              " ('1/2994f17f58a5.png', 1),\n",
              " ('1/7b211d8bd249.png', 1),\n",
              " ('1/51a1d162e223.png', 1),\n",
              " ('1/55eac26bd383.png', 1),\n",
              " ('1/8fd7ad26e691.png', 1),\n",
              " ('1/07929d32b5b3.png', 1),\n",
              " ('1/91b6ebaa3678.png', 1),\n",
              " ('1/69fff98cb32a.png', 1),\n",
              " ('1/01c7808d901d.png', 1),\n",
              " ('1/0a1076183736.png', 1),\n",
              " ('1/7005be54cab1.png', 1),\n",
              " ('1/4f20f9a9a65b.png', 1),\n",
              " ('1/498f143c0374.png', 1),\n",
              " ('1/b019a49787c1.png', 1),\n",
              " ('1/6d454444f17c.png', 1),\n",
              " ('1/222f3ee3a1e8.png', 1),\n",
              " ('1/3f752fcccec0.png', 1),\n",
              " ('1/4e7694eebb91.png', 1),\n",
              " ('1/070f67572d03.png', 1),\n",
              " ('1/63b4d030b016.png', 1),\n",
              " ('1/03e25101e8e8.png', 1),\n",
              " ('1/7dee6bf8b9c1.png', 1),\n",
              " ('1/04ac765f91a1.png', 1),\n",
              " ('1/8f318a978844.png', 1),\n",
              " ('1/1c5ad36fb799.png', 1),\n",
              " ('1/1df3e03a8f5f.png', 1),\n",
              " ('1/6b7cf869622a.png', 1),\n",
              " ('1/5b0e53f53ef3.png', 1),\n",
              " ('1/3796af4d987a.png', 1),\n",
              " ('1/2ecbc2e3f239.png', 1),\n",
              " ('1/1c3a6b4449e9.png', 1),\n",
              " ('1/51269b77d312.png', 1),\n",
              " ('1/4393c5bc576a.png', 1),\n",
              " ('1/f64214bed40e.png', 1),\n",
              " ('1/77a9538b8362.png', 1),\n",
              " ('1/31616ff6b53b.png', 1),\n",
              " ('1/10fca1abf338.png', 1),\n",
              " ('1/537e50fdf22e.png', 1),\n",
              " ('1/d0ffa0425ef1.png', 1),\n",
              " ('1/211518c46162.png', 1),\n",
              " ('1/f092febbf5c0.png', 1),\n",
              " ('1/1f4bf8e28b41.png', 1),\n",
              " ('1/1ab3f1c71a5f.png', 1),\n",
              " ('1/00e4ddff966a.png', 1),\n",
              " ('1/78bcdffb8785.png', 1),\n",
              " ('1/7a3ea1779b13.png', 1),\n",
              " ('1/86d6808f0609.png', 1),\n",
              " ('1/1c0e5dd1b14c.png', 1),\n",
              " ('1/254052cf3e48.png', 1),\n",
              " ('1/2b48daf24be0.png', 1),\n",
              " ('1/0cb14014117d.png', 1),\n",
              " ('1/0243404e8a00.png', 1),\n",
              " ('1/66a0bf258013.png', 1),\n",
              " ('1/4c60b10a3a6a.png', 1),\n",
              " ('1/4e43d05cc2ef.png', 1),\n",
              " ('1/1f543a86c4d4.png', 1),\n",
              " ('1/d035c2bd9104.png', 1),\n",
              " ('1/d16398c971e9.png', 1),\n",
              " ('1/ce207b69ff37.png', 1),\n",
              " ('1/857230f64a2e.png', 1),\n",
              " ('1/21abd36095a1.png', 1),\n",
              " ('1/1db18bdd43aa.png', 1),\n",
              " ('1/15bed5adde74.png', 1),\n",
              " ('1/64eb5a79dfdd.png', 1),\n",
              " ('1/5a03fe3ed15c.png', 1),\n",
              " ('1/0c76fd494af6.png', 1),\n",
              " ('1/f6f433f3306f.png', 1),\n",
              " ('1/e93394175a19.png', 1),\n",
              " ('1/59fee5bc3479.png', 1),\n",
              " ('1/5e7cc6ab4ac4.png', 1),\n",
              " ('1/01eb826f6467.png', 1),\n",
              " ('1/6c3745a222da.png', 1),\n",
              " ('1/8bed09514c3b.png', 1),\n",
              " ('1/d868acdccb5b.png', 1),\n",
              " ('1/0e82bcacc475.png', 1),\n",
              " ('1/3f47f83217b5.png', 1),\n",
              " ('1/080f66eedfb9.png', 1),\n",
              " ('1/00b74780d31d.png', 1),\n",
              " ('1/a14fcf84bfe1.png', 1),\n",
              " ('1/875a2fc5fe23.png', 1),\n",
              " ('1/3b018e8b7303.png', 1),\n",
              " ('1/24b943fe725e.png', 1),\n",
              " ('1/29b52f64d2db.png', 1),\n",
              " ('1/247e98aba610.png', 1),\n",
              " ('1/3c78bfca247b.png', 1),\n",
              " ('1/89ed6a0dd53f.png', 1),\n",
              " ('1/0a9ec1e99ce4.png', 1),\n",
              " ('1/18b06f56ab27.png', 1),\n",
              " ('1/adb56cecafaf.png', 1),\n",
              " ('1/7c2f820a6425.png', 1),\n",
              " ('1/5548a7961a3e.png', 1),\n",
              " ('1/5c7ab966a3ee.png', 1),\n",
              " ('1/20d5fdd450ae.png', 1),\n",
              " ('1/107aea0d9289.png', 1),\n",
              " ('1/33ffddea8c6e.png', 1),\n",
              " ('1/46d3316c4857.png', 1),\n",
              " ('1/4e6071b73120.png', 1),\n",
              " ('1/2c2aa057afc5.png', 1),\n",
              " ('1/fb61230b99dd.png', 1),\n",
              " ('1/8af6a4e5396f.png', 1),\n",
              " ('1/2d9d97a6e713.png', 1),\n",
              " ('1/4a558a1cd243.png', 1),\n",
              " ('1/4b422b48d0d4.png', 1),\n",
              " ('1/2628305cbb29.png', 1),\n",
              " ('1/9fab29e69a6b.png', 1),\n",
              " ('1/30cab14951ac.png', 1),\n",
              " ('1/513b0a4651fa.png', 1),\n",
              " ('1/4fecf87184e6.png', 1),\n",
              " ('1/7d8f67cadc29.png', 1),\n",
              " ('1/3a61e690f4bb.png', 1),\n",
              " ('1/1b8ad0afe9fb.png', 1),\n",
              " ('1/02dda30d3acf.png', 1),\n",
              " ('1/8bad12d70368.png', 1),\n",
              " ('1/4a44cc840ebe.png', 1),\n",
              " ('1/1c578b72d7b3.png', 1),\n",
              " ('1/b6bfe9db60e5.png', 1),\n",
              " ('1/b7e0f95353f2.png', 1),\n",
              " ('1/0ada12c0e78f.png', 1),\n",
              " ('1/6e092b306fe1.png', 1),\n",
              " ('1/08a3875063c3.png', 1),\n",
              " ('1/1638404f385c.png', 1),\n",
              " ('1/3a1d3ce00f0c.png', 1),\n",
              " ('1/3c53198519f7.png', 1),\n",
              " ('1/2b21d293fdf2.png', 1),\n",
              " ('1/6cd606dc52e9.png', 1),\n",
              " ('1/0a61bddab956.png', 1),\n",
              " ('1/9a94e0316ee3.png', 1),\n",
              " ('1/e8d1c6c07cf2.png', 1),\n",
              " ('1/a80dab8eddf4.png', 1),\n",
              " ('1/fcc6aa6755e6.png', 1),\n",
              " ('1/4c78d9d18da9.png', 1),\n",
              " ('1/13ab8db8c700.png', 1),\n",
              " ('1/2f4e81787d9b.png', 1),\n",
              " ('1/2f284b6a1940.png', 1),\n",
              " ('1/1a369baf9ee6.png', 1),\n",
              " ('1/6d3d1fe6c32a.png', 1),\n",
              " ('1/5b301a6d1ac7.png', 1),\n",
              " ('1/b2ffa3e18559.png', 1),\n",
              " ('1/5dc23e440de3.png', 1),\n",
              " ('1/0efc93ec838b.png', 1),\n",
              " ('1/4ecd1fdd1435.png', 1),\n",
              " ('1/dbfd238b3468.png', 1),\n",
              " ('1/905cc86bf100.png', 1),\n",
              " ('1/7bc2e0fa3f72.png', 1),\n",
              " ('1/4dd9d29eae5d.png', 1),\n",
              " ...]"
            ]
          },
          "metadata": {},
          "execution_count": 4
        }
      ]
    },
    {
      "cell_type": "code",
      "source": [
        "import pandas as pd\n",
        "\n",
        "train_dataframe = pd.DataFrame(data=train_list, columns=[\"path\", \"label\"])\n",
        "\n",
        "print('학습 이미지의 개수:', len(train_dataframe))\n",
        "print('학습 이미지별 클래스 정보')\n",
        "train_dataframe.head()"
      ],
      "metadata": {
        "id": "v14rQjFOa4yC",
        "outputId": "93241b2c-a241-4718-c057-fa833dc635e1",
        "colab": {
          "base_uri": "https://localhost:8080/",
          "height": 243
        }
      },
      "execution_count": 5,
      "outputs": [
        {
          "output_type": "stream",
          "name": "stdout",
          "text": [
            "학습 이미지의 개수: 1544\n",
            "학습 이미지별 클래스 정보\n"
          ]
        },
        {
          "output_type": "execute_result",
          "data": {
            "text/plain": [
              "                 path  label\n",
              "0  0/5bf3357a2823.png      0\n",
              "1  0/1ab8d3431ffc.png      0\n",
              "2  0/4bcee3cbe232.png      0\n",
              "3  0/6bf2a81a5d91.png      0\n",
              "4  0/18b99159a14f.png      0"
            ],
            "text/html": [
              "\n",
              "  <div id=\"df-4fb129f0-318d-4137-bbf9-396a1a4823a0\">\n",
              "    <div class=\"colab-df-container\">\n",
              "      <div>\n",
              "<style scoped>\n",
              "    .dataframe tbody tr th:only-of-type {\n",
              "        vertical-align: middle;\n",
              "    }\n",
              "\n",
              "    .dataframe tbody tr th {\n",
              "        vertical-align: top;\n",
              "    }\n",
              "\n",
              "    .dataframe thead th {\n",
              "        text-align: right;\n",
              "    }\n",
              "</style>\n",
              "<table border=\"1\" class=\"dataframe\">\n",
              "  <thead>\n",
              "    <tr style=\"text-align: right;\">\n",
              "      <th></th>\n",
              "      <th>path</th>\n",
              "      <th>label</th>\n",
              "    </tr>\n",
              "  </thead>\n",
              "  <tbody>\n",
              "    <tr>\n",
              "      <th>0</th>\n",
              "      <td>0/5bf3357a2823.png</td>\n",
              "      <td>0</td>\n",
              "    </tr>\n",
              "    <tr>\n",
              "      <th>1</th>\n",
              "      <td>0/1ab8d3431ffc.png</td>\n",
              "      <td>0</td>\n",
              "    </tr>\n",
              "    <tr>\n",
              "      <th>2</th>\n",
              "      <td>0/4bcee3cbe232.png</td>\n",
              "      <td>0</td>\n",
              "    </tr>\n",
              "    <tr>\n",
              "      <th>3</th>\n",
              "      <td>0/6bf2a81a5d91.png</td>\n",
              "      <td>0</td>\n",
              "    </tr>\n",
              "    <tr>\n",
              "      <th>4</th>\n",
              "      <td>0/18b99159a14f.png</td>\n",
              "      <td>0</td>\n",
              "    </tr>\n",
              "  </tbody>\n",
              "</table>\n",
              "</div>\n",
              "      <button class=\"colab-df-convert\" onclick=\"convertToInteractive('df-4fb129f0-318d-4137-bbf9-396a1a4823a0')\"\n",
              "              title=\"Convert this dataframe to an interactive table.\"\n",
              "              style=\"display:none;\">\n",
              "        \n",
              "  <svg xmlns=\"http://www.w3.org/2000/svg\" height=\"24px\"viewBox=\"0 0 24 24\"\n",
              "       width=\"24px\">\n",
              "    <path d=\"M0 0h24v24H0V0z\" fill=\"none\"/>\n",
              "    <path d=\"M18.56 5.44l.94 2.06.94-2.06 2.06-.94-2.06-.94-.94-2.06-.94 2.06-2.06.94zm-11 1L8.5 8.5l.94-2.06 2.06-.94-2.06-.94L8.5 2.5l-.94 2.06-2.06.94zm10 10l.94 2.06.94-2.06 2.06-.94-2.06-.94-.94-2.06-.94 2.06-2.06.94z\"/><path d=\"M17.41 7.96l-1.37-1.37c-.4-.4-.92-.59-1.43-.59-.52 0-1.04.2-1.43.59L10.3 9.45l-7.72 7.72c-.78.78-.78 2.05 0 2.83L4 21.41c.39.39.9.59 1.41.59.51 0 1.02-.2 1.41-.59l7.78-7.78 2.81-2.81c.8-.78.8-2.07 0-2.86zM5.41 20L4 18.59l7.72-7.72 1.47 1.35L5.41 20z\"/>\n",
              "  </svg>\n",
              "      </button>\n",
              "      \n",
              "  <style>\n",
              "    .colab-df-container {\n",
              "      display:flex;\n",
              "      flex-wrap:wrap;\n",
              "      gap: 12px;\n",
              "    }\n",
              "\n",
              "    .colab-df-convert {\n",
              "      background-color: #E8F0FE;\n",
              "      border: none;\n",
              "      border-radius: 50%;\n",
              "      cursor: pointer;\n",
              "      display: none;\n",
              "      fill: #1967D2;\n",
              "      height: 32px;\n",
              "      padding: 0 0 0 0;\n",
              "      width: 32px;\n",
              "    }\n",
              "\n",
              "    .colab-df-convert:hover {\n",
              "      background-color: #E2EBFA;\n",
              "      box-shadow: 0px 1px 2px rgba(60, 64, 67, 0.3), 0px 1px 3px 1px rgba(60, 64, 67, 0.15);\n",
              "      fill: #174EA6;\n",
              "    }\n",
              "\n",
              "    [theme=dark] .colab-df-convert {\n",
              "      background-color: #3B4455;\n",
              "      fill: #D2E3FC;\n",
              "    }\n",
              "\n",
              "    [theme=dark] .colab-df-convert:hover {\n",
              "      background-color: #434B5C;\n",
              "      box-shadow: 0px 1px 3px 1px rgba(0, 0, 0, 0.15);\n",
              "      filter: drop-shadow(0px 1px 2px rgba(0, 0, 0, 0.3));\n",
              "      fill: #FFFFFF;\n",
              "    }\n",
              "  </style>\n",
              "\n",
              "      <script>\n",
              "        const buttonEl =\n",
              "          document.querySelector('#df-4fb129f0-318d-4137-bbf9-396a1a4823a0 button.colab-df-convert');\n",
              "        buttonEl.style.display =\n",
              "          google.colab.kernel.accessAllowed ? 'block' : 'none';\n",
              "\n",
              "        async function convertToInteractive(key) {\n",
              "          const element = document.querySelector('#df-4fb129f0-318d-4137-bbf9-396a1a4823a0');\n",
              "          const dataTable =\n",
              "            await google.colab.kernel.invokeFunction('convertToInteractive',\n",
              "                                                     [key], {});\n",
              "          if (!dataTable) return;\n",
              "\n",
              "          const docLinkHtml = 'Like what you see? Visit the ' +\n",
              "            '<a target=\"_blank\" href=https://colab.research.google.com/notebooks/data_table.ipynb>data table notebook</a>'\n",
              "            + ' to learn more about interactive tables.';\n",
              "          element.innerHTML = '';\n",
              "          dataTable['output_type'] = 'display_data';\n",
              "          await google.colab.output.renderOutput(dataTable, element);\n",
              "          const docLink = document.createElement('div');\n",
              "          docLink.innerHTML = docLinkHtml;\n",
              "          element.appendChild(docLink);\n",
              "        }\n",
              "      </script>\n",
              "    </div>\n",
              "  </div>\n",
              "  "
            ]
          },
          "metadata": {},
          "execution_count": 5
        }
      ]
    },
    {
      "cell_type": "code",
      "source": [
        "import matplotlib.pyplot as plt\n",
        "import seaborn as sns\n",
        "\n",
        "plt.rcParams['figure.figsize'] = (8.0, 6.0) # 그림의 기본 크기 설정\n",
        "\n",
        "# 각 클래스별 개수 출력\n",
        "print('클래스 0의 개수:', len(train_dataframe[train_dataframe.label == 0]))\n",
        "print('클래스 1의 개수:', len(train_dataframe[train_dataframe.label == 1]))\n",
        "print('클래스 2의 개수:', len(train_dataframe[train_dataframe.label == 2]))\n",
        "print('클래스 3의 개수:', len(train_dataframe[train_dataframe.label == 3]))\n",
        "print('클래스 4의 개수:', len(train_dataframe[train_dataframe.label == 4]))\n",
        "print('클래스 5의 개수:', len(train_dataframe[train_dataframe.label == 5]))\n",
        "\n",
        "# 각 클래스에 따른 학습 이미지의 개수를 출력하기\n",
        "fig, ax = plt.subplots(figsize = (10, 4)) # 그림 크기 설정\n",
        "sns.countplot(x ='label', data=train_dataframe)\n",
        "plt.xlabel(\"Class Label\")\n",
        "plt.ylabel(\"Number of Samples\")\n",
        "plt.show() "
      ],
      "metadata": {
        "id": "8bkBcVbAbMNr",
        "outputId": "89003802-0a34-4f37-da16-e8066eae7717",
        "colab": {
          "base_uri": "https://localhost:8080/",
          "height": 392
        }
      },
      "execution_count": 6,
      "outputs": [
        {
          "output_type": "stream",
          "name": "stdout",
          "text": [
            "클래스 0의 개수: 772\n",
            "클래스 1의 개수: 772\n",
            "클래스 2의 개수: 0\n",
            "클래스 3의 개수: 0\n",
            "클래스 4의 개수: 0\n",
            "클래스 5의 개수: 0\n"
          ]
        },
        {
          "output_type": "display_data",
          "data": {
            "text/plain": [
              "<Figure size 720x288 with 1 Axes>"
            ],
            "image/png": "[encoded data removed]"
          },
          "metadata": {
            "needs_background": "light"
          }
        }
      ]
    },
    {
      "cell_type": "code",
      "source": [
        "from skimage.transform import resize\n",
        "from PIL import Image\n",
        "import numpy as np\n",
        "\n",
        "\n",
        "img = Image.open(train_dataframe.iloc[0].path)\n",
        "img = np.asarray(img)\n",
        "img = resize(img, (64, 64))\n",
        "print('이미지의 해상도:', img.shape)\n",
        "\n",
        "# 이미지 출력하기\n",
        "plt.imshow(img, cmap=\"gray\")\n",
        "plt.show()"
      ],
      "metadata": {
        "id": "62yCd-smbP1L",
        "outputId": "9e86ca1d-b3c2-444d-d9b9-3721e1bb0510",
        "colab": {
          "base_uri": "https://localhost:8080/",
          "height": 395
        }
      },
      "execution_count": 7,
      "outputs": [
        {
          "output_type": "stream",
          "name": "stdout",
          "text": [
            "이미지의 해상도: (64, 64, 3)\n"
          ]
        },
        {
          "output_type": "display_data",
          "data": {
            "text/plain": [
              "<Figure size 576x432 with 1 Axes>"
            ],
            "image/png": "[encoded data removed]"
          },
          "metadata": {
            "needs_background": "light"
          }
        }
      ]
    },
    {
      "cell_type": "code",
      "source": [
        "from sklearn.model_selection import train_test_split#비율에 맞게 나누어줌\n",
        "\n",
        "train_dataset, test_dataset = train_test_split(train_dataframe, test_size=0.2)\n",
        "\n",
        "print('학습 데이터셋 크기:', len(train_dataset))\n",
        "print('테스트 데이터셋 크기:', len(test_dataset))"
      ],
      "metadata": {
        "id": "0N7EppdzbUmX",
        "outputId": "bca6740d-8dcf-4a85-9b42-db6b944ad6a9",
        "colab": {
          "base_uri": "https://localhost:8080/"
        }
      },
      "execution_count": 8,
      "outputs": [
        {
          "output_type": "stream",
          "name": "stdout",
          "text": [
            "학습 데이터셋 크기: 1235\n",
            "테스트 데이터셋 크기: 309\n"
          ]
        }
      ]
    },
    {
      "cell_type": "code",
      "source": [
        "import time\n",
        "\n",
        "\n",
        "######### 학습 데이터셋 #########\n",
        "start_time = time.time() # 시작 시간\n",
        "\n",
        "# 학습 데이터셋 구성하기\n",
        "X_train = []\n",
        "y_train = []\n",
        "\n",
        "# 데이터 정보를 하나씩 확인하며\n",
        "for index, row in train_dataset.iterrows():\n",
        "    # 이미지 정보를 배열에 담기\n",
        "    img = Image.open(row['path'])\n",
        "\n",
        "    img = np.asarray(img)\n",
        "    img = resize(img, (64, 64))\n",
        "    X_train.append(img)\n",
        "    y_train.append(row['label']) # 레이블 정보를 배열에 담기\n",
        "\n",
        "X_train = np.asarray(X_train) # Numpy 객체로 변환\n",
        "y_train = np.asarray(y_train) # Numpy 객체로 변환\n",
        "\n",
        "print(\"소요된 시간(초 단위):\", time.time() - start_time) # 실행 시간"
      ],
      "metadata": {
        "id": "404KvJBYbaLa",
        "outputId": "69c88494-1941-4ee8-e341-8a58d2086c8c",
        "colab": {
          "base_uri": "https://localhost:8080/"
        }
      },
      "execution_count": 9,
      "outputs": [
        {
          "output_type": "stream",
          "name": "stdout",
          "text": [
            "소요된 시간(초 단위): 21.96485948562622\n"
          ]
        }
      ]
    },
    {
      "cell_type": "code",
      "source": [
        "######### 테스트 데이터셋 #########\n",
        "start_time = time.time() # 시작 시간\n",
        "\n",
        "# 학습 데이터셋 구성하기\n",
        "X_test = []\n",
        "y_test = []\n",
        "\n",
        "# 데이터 정보를 하나씩 확인하며\n",
        "for index, row in test_dataset.iterrows():\n",
        "    # 이미지 정보를 배열에 담기\n",
        "    img = Image.open(row['path'])\n",
        "    img = np.asarray(img)\n",
        "    img = resize(img, (64, 64))\n",
        "    X_test.append(img)\n",
        "    y_test.append(row['label']) # 레이블 정보를 배열에 담기\n",
        "\n",
        "X_test = np.asarray(X_test) # Numpy 객체로 변환\n",
        "y_test = np.asarray(y_test) # Numpy 객체로 변환\n",
        "\n",
        "print(\"소요된 시간(초 단위):\", time.time() - start_time) # 실행 시간"
      ],
      "metadata": {
        "id": "ctnCkBVfb2ko",
        "outputId": "43a879b6-7837-4ef8-9247-13628433c257",
        "colab": {
          "base_uri": "https://localhost:8080/"
        }
      },
      "execution_count": 10,
      "outputs": [
        {
          "output_type": "stream",
          "name": "stdout",
          "text": [
            "소요된 시간(초 단위): 3.0161681175231934\n"
          ]
        }
      ]
    },
    {
      "cell_type": "code",
      "source": [
        "print('학습 이미지:', X_train.shape)\n",
        "print('학습 레이블:', y_train.shape)\n",
        "print('테스트 이미지:', X_test.shape)\n",
        "print('테스트 레이블:', y_test.shape)"
      ],
      "metadata": {
        "id": "FUdalsiKb9U3",
        "outputId": "5158be90-06f3-4cd5-8cb9-d820c5105f46",
        "colab": {
          "base_uri": "https://localhost:8080/"
        }
      },
      "execution_count": 11,
      "outputs": [
        {
          "output_type": "stream",
          "name": "stdout",
          "text": [
            "학습 이미지: (1235, 64, 64, 3)\n",
            "학습 레이블: (1235,)\n",
            "테스트 이미지: (309, 64, 64, 3)\n",
            "테스트 레이블: (309,)\n"
          ]
        }
      ]
    },
    {
      "cell_type": "code",
      "source": [
        "# 각 클래스마다 특정 개수의 이미지를 출력합니다.\n",
        "samples_per_class = 5\n",
        "\n",
        "\n",
        "# 데이터 시각화 함수 구현\n",
        "def visualize_data(X_data, y_data, class_names, samples_per_class):\n",
        "    num_classes = len(class_names)\n",
        "    for y, cls in enumerate(class_names): # 각 클래스를 (클래스, 클래스명) 형식으로 순회\n",
        "        idxs = np.flatnonzero(y_data == y) # 해당 클래스를 갖는(True 값을 갖는) 데이터 인덱스 계산\n",
        "        idxs = np.random.choice(idxs, samples_per_class, replace=False) # 특정 개수만큼 무작위로 선택\n",
        "        for i, idx in enumerate(idxs): # 하나씩 이미지를 확인하며\n",
        "            plt_idx = i * num_classes + y + 1 # 이미지를 출력할 위치: 각 열(column)에 차례대로 출력하도록 설정\n",
        "            plt.subplot(samples_per_class, num_classes, plt_idx)\n",
        "            plt.imshow(X_data[idx], cmap=\"gray\")\n",
        "            plt.axis('off')\n",
        "            if i == 0:\n",
        "                plt.title(cls)\n",
        "    plt.show()\n",
        "\n",
        "visualize_data(X_train, y_train, class_names, samples_per_class)"
      ],
      "metadata": {
        "id": "6ZrVFZTOcAJA",
        "outputId": "fdced461-f5f8-48c9-e844-0d368ce6d3e8",
        "colab": {
          "base_uri": "https://localhost:8080/",
          "height": 373
        }
      },
      "execution_count": 12,
      "outputs": [
        {
          "output_type": "display_data",
          "data": {
            "text/plain": [
              "<Figure size 576x432 with 10 Axes>"
            ],
            "image/png": "[encoded data removed]"
          },
          "metadata": {
            "needs_background": "light"
          }
        }
      ]
    },
    {
      "cell_type": "code",
      "source": [
        "# 데이터 전처리(preprocessing)를 통해 각 이미지를 벡터로 변경합니다.\n",
        "X_train = np.reshape(X_train, (X_train.shape[0], -1))\n",
        "\n",
        "X_test = np.reshape(X_test, (X_test.shape[0], -1))"
      ],
      "metadata": {
        "id": "hPja0A3ZcCLc"
      },
      "execution_count": 13,
      "outputs": []
    },
    {
      "cell_type": "code",
      "source": [
        "print('학습 이미지:', X_train.shape)\n",
        "print('학습 레이블:', y_train.shape)\n",
        "\n",
        "print('테스트 이미지:', X_test.shape)\n",
        "print('테스트 레이블:', y_test.shape)"
      ],
      "metadata": {
        "id": "ptwUWH7ucGty",
        "outputId": "55d81a8f-8063-4082-a536-98fdc6ead1ab",
        "colab": {
          "base_uri": "https://localhost:8080/"
        }
      },
      "execution_count": 14,
      "outputs": [
        {
          "output_type": "stream",
          "name": "stdout",
          "text": [
            "학습 이미지: (1235, 12288)\n",
            "학습 레이블: (1235,)\n",
            "테스트 이미지: (309, 12288)\n",
            "테스트 레이블: (309,)\n"
          ]
        }
      ]
    },
    {
      "cell_type": "markdown",
      "source": [
        "Logistic Regression 이용한 모델 학습"
      ],
      "metadata": {
        "id": "SutnWwVait8f"
      }
    },
    {
      "cell_type": "code",
      "source": [
        "from sklearn.model_selection import KFold\n",
        "k_fold = KFold(n_splits=5, shuffle=True, random_state=1234) \n",
        "from sklearn.model_selection import cross_val_score"
      ],
      "metadata": {
        "id": "UXCBXflMcJRF"
      },
      "execution_count": 15,
      "outputs": []
    },
    {
      "cell_type": "code",
      "source": [
        "from sklearn.linear_model import LogisticRegression\n",
        "\n",
        "start_time = time.time() # 시작 시간\n",
        "\n",
        "model = LogisticRegression(multi_class=\"multinomial\", solver=\"lbfgs\", max_iter=100)\n",
        "\n",
        "score = cross_val_score(model, X_train, y_train, cv=k_fold, n_jobs=1, scoring = 'accuracy')\n",
        "\n",
        "print(\"소요된 시간(초 단위):\", time.time() - start_time) # 실행 시간"
      ],
      "metadata": {
        "colab": {
          "base_uri": "https://localhost:8080/"
        },
        "id": "lC6kuQQbi00s",
        "outputId": "584068fc-f50e-4e73-ebd9-f879a6c032d0"
      },
      "execution_count": 16,
      "outputs": [
        {
          "output_type": "stream",
          "name": "stderr",
          "text": [
            "/usr/local/lib/python3.8/dist-packages/sklearn/linear_model/_logistic.py:814: ConvergenceWarning: lbfgs failed to converge (status=1):\n",
            "STOP: TOTAL NO. of ITERATIONS REACHED LIMIT.\n",
            "\n",
            "Increase the number of iterations (max_iter) or scale the data as shown in:\n",
            "    https://scikit-learn.org/stable/modules/preprocessing.html\n",
            "Please also refer to the documentation for alternative solver options:\n",
            "    https://scikit-learn.org/stable/modules/linear_model.html#logistic-regression\n",
            "  n_iter_i = _check_optimize_result(\n",
            "/usr/local/lib/python3.8/dist-packages/sklearn/linear_model/_logistic.py:814: ConvergenceWarning: lbfgs failed to converge (status=1):\n",
            "STOP: TOTAL NO. of ITERATIONS REACHED LIMIT.\n",
            "\n",
            "Increase the number of iterations (max_iter) or scale the data as shown in:\n",
            "    https://scikit-learn.org/stable/modules/preprocessing.html\n",
            "Please also refer to the documentation for alternative solver options:\n",
            "    https://scikit-learn.org/stable/modules/linear_model.html#logistic-regression\n",
            "  n_iter_i = _check_optimize_result(\n",
            "/usr/local/lib/python3.8/dist-packages/sklearn/linear_model/_logistic.py:814: ConvergenceWarning: lbfgs failed to converge (status=1):\n",
            "STOP: TOTAL NO. of ITERATIONS REACHED LIMIT.\n",
            "\n",
            "Increase the number of iterations (max_iter) or scale the data as shown in:\n",
            "    https://scikit-learn.org/stable/modules/preprocessing.html\n",
            "Please also refer to the documentation for alternative solver options:\n",
            "    https://scikit-learn.org/stable/modules/linear_model.html#logistic-regression\n",
            "  n_iter_i = _check_optimize_result(\n",
            "/usr/local/lib/python3.8/dist-packages/sklearn/linear_model/_logistic.py:814: ConvergenceWarning: lbfgs failed to converge (status=1):\n",
            "STOP: TOTAL NO. of ITERATIONS REACHED LIMIT.\n",
            "\n",
            "Increase the number of iterations (max_iter) or scale the data as shown in:\n",
            "    https://scikit-learn.org/stable/modules/preprocessing.html\n",
            "Please also refer to the documentation for alternative solver options:\n",
            "    https://scikit-learn.org/stable/modules/linear_model.html#logistic-regression\n",
            "  n_iter_i = _check_optimize_result(\n"
          ]
        },
        {
          "output_type": "stream",
          "name": "stdout",
          "text": [
            "소요된 시간(초 단위): 45.1273136138916\n"
          ]
        },
        {
          "output_type": "stream",
          "name": "stderr",
          "text": [
            "/usr/local/lib/python3.8/dist-packages/sklearn/linear_model/_logistic.py:814: ConvergenceWarning: lbfgs failed to converge (status=1):\n",
            "STOP: TOTAL NO. of ITERATIONS REACHED LIMIT.\n",
            "\n",
            "Increase the number of iterations (max_iter) or scale the data as shown in:\n",
            "    https://scikit-learn.org/stable/modules/preprocessing.html\n",
            "Please also refer to the documentation for alternative solver options:\n",
            "    https://scikit-learn.org/stable/modules/linear_model.html#logistic-regression\n",
            "  n_iter_i = _check_optimize_result(\n"
          ]
        }
      ]
    },
    {
      "cell_type": "code",
      "source": [
        "print(score)  #KFold 결괏값 accuracy 출력\n",
        "print(\"점수 평균 : \" + str(round(np.mean(score) * 100, 2)))"
      ],
      "metadata": {
        "colab": {
          "base_uri": "https://localhost:8080/"
        },
        "id": "_aBnYhIai3X6",
        "outputId": "245488ec-8fb7-4c69-fed2-27b4b3e85c7d"
      },
      "execution_count": 17,
      "outputs": [
        {
          "output_type": "stream",
          "name": "stdout",
          "text": [
            "[0.93927126 0.92712551 0.95546559 0.94736842 0.95951417]\n",
            "점수 평균 : 94.57\n"
          ]
        }
      ]
    },
    {
      "cell_type": "code",
      "source": [
        "model.fit(X_train, y_train)  #model fit"
      ],
      "metadata": {
        "colab": {
          "base_uri": "https://localhost:8080/"
        },
        "id": "KcNTCtofjAUp",
        "outputId": "6428d231-c9c3-4bbd-c0fe-1f245f4d16f7"
      },
      "execution_count": 18,
      "outputs": [
        {
          "output_type": "stream",
          "name": "stderr",
          "text": [
            "/usr/local/lib/python3.8/dist-packages/sklearn/linear_model/_logistic.py:814: ConvergenceWarning: lbfgs failed to converge (status=1):\n",
            "STOP: TOTAL NO. of ITERATIONS REACHED LIMIT.\n",
            "\n",
            "Increase the number of iterations (max_iter) or scale the data as shown in:\n",
            "    https://scikit-learn.org/stable/modules/preprocessing.html\n",
            "Please also refer to the documentation for alternative solver options:\n",
            "    https://scikit-learn.org/stable/modules/linear_model.html#logistic-regression\n",
            "  n_iter_i = _check_optimize_result(\n"
          ]
        },
        {
          "output_type": "execute_result",
          "data": {
            "text/plain": [
              "LogisticRegression(multi_class='multinomial')"
            ]
          },
          "metadata": {},
          "execution_count": 18
        }
      ]
    },
    {
      "cell_type": "code",
      "source": [
        "prediction = model.predict(X_test)"
      ],
      "metadata": {
        "id": "ciO_J4PEjCVC"
      },
      "execution_count": 19,
      "outputs": []
    },
    {
      "cell_type": "code",
      "source": [
        "prediction"
      ],
      "metadata": {
        "colab": {
          "base_uri": "https://localhost:8080/"
        },
        "id": "NJSxkLJCjFDz",
        "outputId": "841db074-286a-4225-b3fc-b7fd5f585966"
      },
      "execution_count": 20,
      "outputs": [
        {
          "output_type": "execute_result",
          "data": {
            "text/plain": [
              "array([1, 1, 0, 1, 0, 0, 1, 1, 1, 1, 1, 1, 0, 0, 0, 1, 1, 0, 0, 1, 1, 1,\n",
              "       1, 1, 1, 1, 1, 1, 1, 1, 1, 1, 1, 1, 0, 1, 1, 0, 1, 0, 1, 1, 0, 0,\n",
              "       1, 1, 1, 0, 1, 1, 1, 1, 1, 0, 1, 0, 1, 0, 1, 1, 1, 0, 0, 0, 0, 0,\n",
              "       1, 0, 0, 0, 1, 0, 1, 0, 0, 0, 0, 1, 0, 1, 0, 0, 0, 1, 1, 1, 0, 0,\n",
              "       0, 1, 1, 0, 1, 0, 1, 1, 1, 1, 1, 0, 1, 0, 0, 0, 1, 1, 1, 1, 1, 0,\n",
              "       1, 0, 1, 0, 0, 1, 1, 0, 0, 0, 1, 0, 1, 1, 0, 1, 0, 1, 0, 0, 1, 0,\n",
              "       0, 1, 1, 1, 0, 0, 0, 0, 0, 0, 1, 1, 0, 1, 1, 1, 1, 0, 0, 1, 1, 1,\n",
              "       0, 1, 0, 0, 0, 1, 0, 0, 0, 0, 0, 0, 0, 0, 0, 0, 0, 0, 1, 0, 1, 1,\n",
              "       1, 1, 0, 0, 0, 1, 0, 0, 0, 1, 1, 0, 1, 1, 0, 0, 0, 1, 0, 1, 0, 0,\n",
              "       0, 1, 0, 1, 1, 0, 1, 0, 0, 0, 0, 0, 0, 0, 1, 1, 0, 0, 1, 0, 1, 1,\n",
              "       0, 0, 1, 1, 0, 0, 0, 0, 0, 0, 0, 0, 1, 0, 0, 1, 1, 0, 1, 1, 0, 0,\n",
              "       1, 0, 1, 1, 0, 0, 0, 1, 1, 0, 0, 0, 0, 1, 1, 0, 0, 0, 1, 0, 1, 1,\n",
              "       1, 0, 1, 0, 1, 1, 0, 1, 0, 0, 1, 1, 1, 1, 1, 0, 1, 0, 1, 1, 0, 1,\n",
              "       0, 1, 1, 0, 1, 0, 0, 1, 1, 1, 0, 1, 1, 0, 0, 1, 0, 0, 0, 1, 1, 1,\n",
              "       1])"
            ]
          },
          "metadata": {},
          "execution_count": 20
        }
      ]
    },
    {
      "cell_type": "code",
      "source": [
        "y_test"
      ],
      "metadata": {
        "colab": {
          "base_uri": "https://localhost:8080/"
        },
        "id": "3AngiEwYjJIX",
        "outputId": "05a43e04-7121-4d0a-99f2-2fe1e7bd262b"
      },
      "execution_count": 21,
      "outputs": [
        {
          "output_type": "execute_result",
          "data": {
            "text/plain": [
              "array([1, 1, 0, 1, 0, 0, 1, 1, 1, 1, 1, 1, 0, 0, 0, 1, 1, 0, 1, 1, 1, 1,\n",
              "       1, 1, 1, 1, 1, 1, 1, 1, 1, 1, 1, 1, 0, 1, 1, 0, 1, 0, 1, 1, 0, 0,\n",
              "       1, 1, 1, 0, 1, 1, 1, 1, 1, 1, 1, 0, 0, 0, 0, 1, 1, 0, 0, 0, 0, 0,\n",
              "       1, 0, 1, 0, 1, 0, 1, 0, 0, 0, 0, 1, 0, 1, 0, 0, 1, 1, 1, 0, 1, 0,\n",
              "       0, 1, 1, 1, 0, 1, 1, 1, 1, 1, 1, 0, 1, 0, 1, 0, 1, 1, 1, 0, 1, 0,\n",
              "       1, 0, 1, 0, 0, 1, 1, 0, 0, 0, 1, 0, 1, 1, 0, 1, 0, 1, 0, 0, 1, 0,\n",
              "       0, 1, 1, 1, 0, 0, 0, 0, 0, 1, 1, 0, 0, 1, 1, 1, 1, 0, 0, 1, 1, 1,\n",
              "       0, 1, 0, 0, 0, 1, 0, 0, 0, 0, 0, 0, 0, 0, 0, 0, 0, 0, 1, 0, 1, 1,\n",
              "       1, 1, 0, 0, 0, 1, 0, 1, 0, 1, 1, 0, 1, 1, 0, 0, 0, 1, 0, 1, 0, 0,\n",
              "       0, 1, 0, 1, 1, 0, 1, 0, 0, 0, 0, 0, 0, 0, 1, 1, 0, 0, 1, 0, 1, 1,\n",
              "       0, 0, 1, 1, 0, 0, 1, 1, 0, 0, 0, 0, 1, 0, 0, 1, 1, 0, 1, 1, 0, 0,\n",
              "       1, 0, 1, 1, 0, 0, 0, 1, 0, 0, 0, 0, 0, 1, 1, 0, 0, 0, 1, 0, 1, 1,\n",
              "       1, 0, 1, 0, 1, 1, 0, 1, 0, 0, 1, 1, 1, 1, 1, 0, 1, 0, 1, 1, 0, 1,\n",
              "       0, 1, 1, 0, 1, 0, 0, 1, 1, 1, 0, 1, 1, 0, 0, 1, 1, 0, 0, 1, 1, 1,\n",
              "       1])"
            ]
          },
          "metadata": {},
          "execution_count": 21
        }
      ]
    },
    {
      "cell_type": "code",
      "source": [
        "from sklearn.metrics import confusion_matrix, accuracy_score\n",
        "cm = confusion_matrix(y_test, prediction, labels=model.classes_)"
      ],
      "metadata": {
        "id": "Lqs-oOwVjJlf"
      },
      "execution_count": 22,
      "outputs": []
    },
    {
      "cell_type": "code",
      "source": [
        "from sklearn.metrics import ConfusionMatrixDisplay\n",
        "\n",
        "\n",
        "disp = ConfusionMatrixDisplay(cm, \n",
        "                       display_labels = model.classes_)\n",
        "disp.plot()\n",
        "plt.show()"
      ],
      "metadata": {
        "colab": {
          "base_uri": "https://localhost:8080/",
          "height": 388
        },
        "id": "ZgxzDO8PjLuu",
        "outputId": "c6be5b86-6da7-465e-b2de-8817fb93130c"
      },
      "execution_count": 23,
      "outputs": [
        {
          "output_type": "display_data",
          "data": {
            "text/plain": [
              "<Figure size 576x432 with 2 Axes>"
            ],
            "image/png": "[encoded data removed]"
          },
          "metadata": {
            "needs_background": "light"
          }
        }
      ]
    },
    {
      "cell_type": "code",
      "source": [
        "accuracy_score(y_test, prediction)"
      ],
      "metadata": {
        "colab": {
          "base_uri": "https://localhost:8080/"
        },
        "id": "bvkBhV0YjsWR",
        "outputId": "f0f50f12-4a1a-4784-c7d8-cdd7b6dfa344"
      },
      "execution_count": 24,
      "outputs": [
        {
          "output_type": "execute_result",
          "data": {
            "text/plain": [
              "0.9352750809061489"
            ]
          },
          "metadata": {},
          "execution_count": 24
        }
      ]
    },
    {
      "cell_type": "code",
      "source": [
        "prob = model.predict_proba(X_test) [: : , 1]\n",
        "prob"
      ],
      "metadata": {
        "colab": {
          "base_uri": "https://localhost:8080/"
        },
        "id": "UPq7mkO7ju4m",
        "outputId": "3825433e-fbd8-447b-f632-723cca9af6af"
      },
      "execution_count": 25,
      "outputs": [
        {
          "output_type": "execute_result",
          "data": {
            "text/plain": [
              "array([8.66226909e-01, 9.99096773e-01, 1.52113900e-02, 8.99033124e-01,\n",
              "       1.24283619e-01, 3.26695110e-03, 9.99758962e-01, 9.99547826e-01,\n",
              "       9.41049011e-01, 9.96629810e-01, 9.98259836e-01, 9.98895400e-01,\n",
              "       4.54704630e-02, 9.78168424e-03, 1.12444633e-02, 8.75806389e-01,\n",
              "       9.99891430e-01, 9.82942222e-06, 4.48657472e-01, 9.99346002e-01,\n",
              "       8.86622822e-01, 9.99545627e-01, 5.82812064e-01, 9.81198374e-01,\n",
              "       9.56609272e-01, 9.68890208e-01, 9.97670785e-01, 9.98929589e-01,\n",
              "       9.97737152e-01, 9.99571120e-01, 9.59927382e-01, 9.18581346e-01,\n",
              "       9.96846488e-01, 6.27827524e-01, 1.84889494e-02, 9.99546364e-01,\n",
              "       9.80721024e-01, 3.83898498e-03, 9.99724845e-01, 3.96855204e-02,\n",
              "       9.75532064e-01, 9.96181879e-01, 2.95908042e-01, 3.29520286e-03,\n",
              "       8.55922081e-01, 9.95418185e-01, 9.95446187e-01, 7.07207348e-11,\n",
              "       9.91724827e-01, 9.98541869e-01, 9.98967606e-01, 9.98554613e-01,\n",
              "       9.99206588e-01, 1.47649449e-01, 9.99022613e-01, 7.55352845e-02,\n",
              "       5.69401922e-01, 7.52981483e-03, 9.81187386e-01, 6.63562729e-01,\n",
              "       9.99251272e-01, 2.69417613e-03, 1.15148225e-01, 1.69818738e-03,\n",
              "       4.03545979e-02, 9.55041631e-11, 9.93411655e-01, 3.40789632e-02,\n",
              "       7.62845922e-02, 5.49086746e-02, 9.99971129e-01, 1.19692233e-02,\n",
              "       8.05845182e-01, 7.75951304e-03, 1.28486716e-02, 3.91755282e-03,\n",
              "       1.29651759e-01, 9.91026552e-01, 7.80336866e-03, 6.36495726e-01,\n",
              "       8.66716779e-04, 2.24999291e-01, 1.00858901e-01, 9.99630585e-01,\n",
              "       9.97605246e-01, 9.96505978e-01, 4.99237778e-01, 4.19551266e-05,\n",
              "       9.44557536e-02, 9.98140775e-01, 9.98834101e-01, 2.55978063e-01,\n",
              "       7.22347671e-01, 2.57772076e-01, 9.50481803e-01, 9.99105979e-01,\n",
              "       9.96587788e-01, 9.96008632e-01, 9.98611512e-01, 8.19809666e-02,\n",
              "       9.97428949e-01, 1.05464371e-14, 3.92372595e-01, 3.96033074e-02,\n",
              "       9.99718399e-01, 9.72275320e-01, 9.99447276e-01, 9.84170705e-01,\n",
              "       9.99872752e-01, 6.47861241e-03, 9.81316071e-01, 9.63707797e-03,\n",
              "       9.94717445e-01, 1.15204819e-03, 2.15447733e-02, 9.97155369e-01,\n",
              "       9.23344469e-01, 3.95802876e-04, 6.74042409e-02, 2.95906527e-03,\n",
              "       8.54104178e-01, 1.34463202e-03, 9.55797590e-01, 9.99877461e-01,\n",
              "       3.45014790e-03, 9.98927919e-01, 1.45538831e-03, 9.92582660e-01,\n",
              "       2.07345795e-02, 9.64576607e-03, 9.99957286e-01, 8.68671820e-03,\n",
              "       1.45492963e-03, 9.83646131e-01, 9.90372357e-01, 9.99572636e-01,\n",
              "       3.88051195e-01, 9.14078237e-02, 7.14171138e-03, 8.74453470e-04,\n",
              "       6.92883498e-02, 3.24927665e-01, 9.99942212e-01, 8.89432103e-01,\n",
              "       4.32855075e-01, 9.99749734e-01, 9.99838705e-01, 9.71896815e-01,\n",
              "       9.98841856e-01, 9.89944613e-04, 1.79488893e-14, 5.45994832e-01,\n",
              "       9.59324989e-01, 9.97646993e-01, 1.05037392e-02, 9.09593411e-01,\n",
              "       2.67802758e-01, 2.09306756e-12, 6.01499000e-02, 9.99544919e-01,\n",
              "       7.74890386e-04, 6.43825801e-02, 3.12961193e-01, 3.20148838e-04,\n",
              "       9.26040855e-12, 5.86155754e-05, 1.03096008e-02, 5.60127471e-13,\n",
              "       5.70511422e-04, 6.34928338e-03, 6.07788228e-02, 6.67422998e-03,\n",
              "       9.98837612e-01, 5.62353348e-02, 9.95051161e-01, 9.94790046e-01,\n",
              "       9.98800963e-01, 9.67169321e-01, 4.12206291e-02, 1.52564531e-04,\n",
              "       1.63544161e-02, 9.99786508e-01, 1.78562295e-03, 9.59373391e-02,\n",
              "       8.95411230e-03, 9.04589926e-01, 9.96706282e-01, 4.35033632e-02,\n",
              "       9.89122706e-01, 9.99783317e-01, 2.66508569e-02, 4.83563196e-05,\n",
              "       5.22454668e-12, 9.99251272e-01, 2.33459541e-04, 9.99583455e-01,\n",
              "       4.96812683e-01, 1.66486075e-02, 1.32389843e-03, 9.98689686e-01,\n",
              "       1.19331254e-01, 9.49504225e-01, 9.98488397e-01, 3.79920160e-02,\n",
              "       9.92659480e-01, 1.25485645e-02, 3.11528067e-03, 2.36666031e-02,\n",
              "       3.86700762e-04, 2.67601488e-02, 2.90484610e-02, 2.79039926e-04,\n",
              "       9.98201481e-01, 9.99833112e-01, 2.34888326e-03, 1.89010721e-03,\n",
              "       9.99785013e-01, 1.63863480e-02, 9.99852425e-01, 9.91621759e-01,\n",
              "       2.99893868e-03, 8.64838543e-04, 9.96581907e-01, 9.94747018e-01,\n",
              "       6.07113753e-05, 4.33732205e-03, 3.88078002e-01, 2.50961355e-01,\n",
              "       1.03538883e-02, 1.85158270e-04, 3.52253415e-03, 3.08094475e-03,\n",
              "       8.18877992e-01, 2.11893700e-02, 1.26109702e-02, 9.95756513e-01,\n",
              "       9.99762845e-01, 7.00239287e-13, 9.96268592e-01, 6.86159351e-01,\n",
              "       1.32064598e-02, 2.05709095e-11, 9.99364166e-01, 2.73937641e-01,\n",
              "       9.93011466e-01, 9.67278253e-01, 2.43724226e-02, 4.26698915e-02,\n",
              "       1.22634778e-02, 9.98803769e-01, 8.26888511e-01, 8.99831480e-02,\n",
              "       1.12251687e-02, 1.93038666e-01, 1.43661520e-10, 9.91401013e-01,\n",
              "       9.67179590e-01, 1.22194977e-02, 1.97799364e-01, 1.36330108e-02,\n",
              "       9.96583449e-01, 1.41715697e-03, 9.99737522e-01, 9.86132857e-01,\n",
              "       9.93673399e-01, 2.79334999e-04, 9.95060510e-01, 2.01949630e-04,\n",
              "       8.69074653e-01, 9.89741598e-01, 2.89279269e-03, 9.20400104e-01,\n",
              "       9.12833701e-02, 2.72782420e-02, 9.99922681e-01, 9.83126998e-01,\n",
              "       9.98074415e-01, 9.44103896e-01, 8.53306496e-01, 8.91651438e-05,\n",
              "       9.99693409e-01, 3.39813744e-03, 9.89601033e-01, 9.99872615e-01,\n",
              "       4.37038464e-02, 9.97345002e-01, 2.70473301e-03, 8.20931239e-01,\n",
              "       9.66025893e-01, 1.83750286e-09, 5.40679323e-01, 3.03504162e-04,\n",
              "       3.50777161e-02, 9.99900880e-01, 9.99224150e-01, 9.99711893e-01,\n",
              "       7.94376016e-15, 9.83429189e-01, 9.93524364e-01, 1.25537674e-03,\n",
              "       4.10010603e-02, 9.98135783e-01, 1.66217504e-02, 2.19112849e-02,\n",
              "       1.95803452e-02, 9.20074491e-01, 8.71932344e-01, 9.98868369e-01,\n",
              "       9.98408984e-01])"
            ]
          },
          "metadata": {},
          "execution_count": 25
        }
      ]
    },
    {
      "cell_type": "code",
      "source": [
        "import matplotlib.pyplot as plt\n",
        "import numpy as np\n",
        "from sklearn import metrics\n",
        "\n",
        "\n",
        "fpr, tpr, thresholds = metrics.roc_curve(y_test, prob)\n",
        "a = metrics.auc(fpr, tpr)\n",
        "plt.plot(fpr, tpr, label = f'AUC = {a:.3f}')\n",
        "plt.ylabel('True Positive Rate')\n",
        "plt.xlabel('False Positive Rate')\n",
        "\n",
        "plt.plot([0, 1], [0, 1], \"k--\", label = \" AUC = 0.5\")\n",
        "plt.axis(\"square\")\n",
        "plt.title('')\n",
        "plt.legend(loc = 'lower right')\n",
        "plt.show()"
      ],
      "metadata": {
        "colab": {
          "base_uri": "https://localhost:8080/",
          "height": 388
        },
        "id": "FYfLDniMjxtO",
        "outputId": "839b05ed-86a1-4539-dd37-c41eed6b7f57"
      },
      "execution_count": 26,
      "outputs": [
        {
          "output_type": "display_data",
          "data": {
            "text/plain": [
              "<Figure size 576x432 with 1 Axes>"
            ],
            "image/png": "[encoded data removed]"
          },
          "metadata": {
            "needs_background": "light"
          }
        }
      ]
    },
    {
      "cell_type": "code",
      "source": [
        "from sklearn.metrics import mean_squared_error \n",
        "mean_squared_error(y_test, prediction)"
      ],
      "metadata": {
        "colab": {
          "base_uri": "https://localhost:8080/"
        },
        "id": "6r1QNqxJmTl8",
        "outputId": "9df5b7b9-28bb-4f59-f8e2-d3ad96b24645"
      },
      "execution_count": 27,
      "outputs": [
        {
          "output_type": "execute_result",
          "data": {
            "text/plain": [
              "0.06472491909385113"
            ]
          },
          "metadata": {},
          "execution_count": 27
        }
      ]
    },
    {
      "cell_type": "code",
      "source": [
        "!git clone https://github.com/jslee464/diabetic-retinopathy\n",
        "\n",
        "%cd diabetic-retinopathy/dr"
      ],
      "metadata": {
        "id": "eHZFw6EqGPZx",
        "colab": {
          "base_uri": "https://localhost:8080/"
        },
        "outputId": "12bb571c-0b7a-4a61-812c-e5cc9fa7193d"
      },
      "execution_count": 28,
      "outputs": [
        {
          "output_type": "stream",
          "name": "stdout",
          "text": [
            "Cloning into 'diabetic-retinopathy'...\n",
            "remote: Enumerating objects: 31, done.\u001b[K\n",
            "remote: Counting objects: 100% (31/31), done.\u001b[K\n",
            "remote: Compressing objects: 100% (20/20), done.\u001b[K\n",
            "remote: Total 31 (delta 1), reused 0 (delta 0), pack-reused 0\u001b[K\n",
            "Unpacking objects: 100% (31/31), 1.74 MiB | 11.23 MiB/s, done.\n",
            "/content/machinelearning/new/diabetic-retinopathy/dr\n"
          ]
        }
      ]
    },
    {
      "cell_type": "code",
      "source": [
        "class_names=list(range(2))\n",
        "print(class_names)"
      ],
      "metadata": {
        "colab": {
          "base_uri": "https://localhost:8080/"
        },
        "id": "uwcuENjeS1TY",
        "outputId": "93d5c9b6-970e-455d-b02d-c3e403a300c1"
      },
      "execution_count": 29,
      "outputs": [
        {
          "output_type": "stream",
          "name": "stdout",
          "text": [
            "[0, 1]\n"
          ]
        }
      ]
    },
    {
      "cell_type": "code",
      "source": [
        "import os\n",
        "# 학습 이미지 확인하기\n",
        "train_list = []\n",
        "\n",
        "for label in class_names:\n",
        "    file_list = os.listdir(str(label))\n",
        "    #파일 경로\n",
        "    for file_name in file_list:\n",
        "        path =  str(label) + \"/\" + file_name\n",
        "        train_list.append((path, label))\n",
        "        "
      ],
      "metadata": {
        "id": "eVN0iqTXS3hr"
      },
      "execution_count": 30,
      "outputs": []
    },
    {
      "cell_type": "code",
      "source": [
        "train_list"
      ],
      "metadata": {
        "colab": {
          "base_uri": "https://localhost:8080/"
        },
        "id": "jh_GNnaIS5kw",
        "outputId": "79145e35-4a1e-47e9-e672-f215bc4500f0"
      },
      "execution_count": 31,
      "outputs": [
        {
          "output_type": "execute_result",
          "data": {
            "text/plain": [
              "[('0/ex99.png', 0),\n",
              " ('1/ex1.png', 1),\n",
              " ('1/ex3.png', 1),\n",
              " ('1/ex5.png', 1),\n",
              " ('1/ex4.png', 1),\n",
              " ('1/ex2.png', 1)]"
            ]
          },
          "metadata": {},
          "execution_count": 31
        }
      ]
    },
    {
      "cell_type": "code",
      "source": [
        "import pandas as pd\n",
        "\n",
        "real_dataframe = pd.DataFrame(data=train_list, columns=[\"path\", \"label\"])\n",
        "\n",
        "print('학습 이미지의 개수:', len(real_dataframe))\n",
        "print('학습 이미지별 클래스 정보')\n",
        "real_dataframe.head()"
      ],
      "metadata": {
        "colab": {
          "base_uri": "https://localhost:8080/",
          "height": 243
        },
        "id": "60gEJJ3gS5p8",
        "outputId": "b6a144c5-82b7-4d53-a9c1-0c8c47c82d85"
      },
      "execution_count": 32,
      "outputs": [
        {
          "output_type": "stream",
          "name": "stdout",
          "text": [
            "학습 이미지의 개수: 6\n",
            "학습 이미지별 클래스 정보\n"
          ]
        },
        {
          "output_type": "execute_result",
          "data": {
            "text/plain": [
              "         path  label\n",
              "0  0/ex99.png      0\n",
              "1   1/ex1.png      1\n",
              "2   1/ex3.png      1\n",
              "3   1/ex5.png      1\n",
              "4   1/ex4.png      1"
            ],
            "text/html": [
              "\n",
              "  <div id=\"df-c48312e3-5188-4448-8ff3-ee56c003009d\">\n",
              "    <div class=\"colab-df-container\">\n",
              "      <div>\n",
              "<style scoped>\n",
              "    .dataframe tbody tr th:only-of-type {\n",
              "        vertical-align: middle;\n",
              "    }\n",
              "\n",
              "    .dataframe tbody tr th {\n",
              "        vertical-align: top;\n",
              "    }\n",
              "\n",
              "    .dataframe thead th {\n",
              "        text-align: right;\n",
              "    }\n",
              "</style>\n",
              "<table border=\"1\" class=\"dataframe\">\n",
              "  <thead>\n",
              "    <tr style=\"text-align: right;\">\n",
              "      <th></th>\n",
              "      <th>path</th>\n",
              "      <th>label</th>\n",
              "    </tr>\n",
              "  </thead>\n",
              "  <tbody>\n",
              "    <tr>\n",
              "      <th>0</th>\n",
              "      <td>0/ex99.png</td>\n",
              "      <td>0</td>\n",
              "    </tr>\n",
              "    <tr>\n",
              "      <th>1</th>\n",
              "      <td>1/ex1.png</td>\n",
              "      <td>1</td>\n",
              "    </tr>\n",
              "    <tr>\n",
              "      <th>2</th>\n",
              "      <td>1/ex3.png</td>\n",
              "      <td>1</td>\n",
              "    </tr>\n",
              "    <tr>\n",
              "      <th>3</th>\n",
              "      <td>1/ex5.png</td>\n",
              "      <td>1</td>\n",
              "    </tr>\n",
              "    <tr>\n",
              "      <th>4</th>\n",
              "      <td>1/ex4.png</td>\n",
              "      <td>1</td>\n",
              "    </tr>\n",
              "  </tbody>\n",
              "</table>\n",
              "</div>\n",
              "      <button class=\"colab-df-convert\" onclick=\"convertToInteractive('df-c48312e3-5188-4448-8ff3-ee56c003009d')\"\n",
              "              title=\"Convert this dataframe to an interactive table.\"\n",
              "              style=\"display:none;\">\n",
              "        \n",
              "  <svg xmlns=\"http://www.w3.org/2000/svg\" height=\"24px\"viewBox=\"0 0 24 24\"\n",
              "       width=\"24px\">\n",
              "    <path d=\"M0 0h24v24H0V0z\" fill=\"none\"/>\n",
              "    <path d=\"M18.56 5.44l.94 2.06.94-2.06 2.06-.94-2.06-.94-.94-2.06-.94 2.06-2.06.94zm-11 1L8.5 8.5l.94-2.06 2.06-.94-2.06-.94L8.5 2.5l-.94 2.06-2.06.94zm10 10l.94 2.06.94-2.06 2.06-.94-2.06-.94-.94-2.06-.94 2.06-2.06.94z\"/><path d=\"M17.41 7.96l-1.37-1.37c-.4-.4-.92-.59-1.43-.59-.52 0-1.04.2-1.43.59L10.3 9.45l-7.72 7.72c-.78.78-.78 2.05 0 2.83L4 21.41c.39.39.9.59 1.41.59.51 0 1.02-.2 1.41-.59l7.78-7.78 2.81-2.81c.8-.78.8-2.07 0-2.86zM5.41 20L4 18.59l7.72-7.72 1.47 1.35L5.41 20z\"/>\n",
              "  </svg>\n",
              "      </button>\n",
              "      \n",
              "  <style>\n",
              "    .colab-df-container {\n",
              "      display:flex;\n",
              "      flex-wrap:wrap;\n",
              "      gap: 12px;\n",
              "    }\n",
              "\n",
              "    .colab-df-convert {\n",
              "      background-color: #E8F0FE;\n",
              "      border: none;\n",
              "      border-radius: 50%;\n",
              "      cursor: pointer;\n",
              "      display: none;\n",
              "      fill: #1967D2;\n",
              "      height: 32px;\n",
              "      padding: 0 0 0 0;\n",
              "      width: 32px;\n",
              "    }\n",
              "\n",
              "    .colab-df-convert:hover {\n",
              "      background-color: #E2EBFA;\n",
              "      box-shadow: 0px 1px 2px rgba(60, 64, 67, 0.3), 0px 1px 3px 1px rgba(60, 64, 67, 0.15);\n",
              "      fill: #174EA6;\n",
              "    }\n",
              "\n",
              "    [theme=dark] .colab-df-convert {\n",
              "      background-color: #3B4455;\n",
              "      fill: #D2E3FC;\n",
              "    }\n",
              "\n",
              "    [theme=dark] .colab-df-convert:hover {\n",
              "      background-color: #434B5C;\n",
              "      box-shadow: 0px 1px 3px 1px rgba(0, 0, 0, 0.15);\n",
              "      filter: drop-shadow(0px 1px 2px rgba(0, 0, 0, 0.3));\n",
              "      fill: #FFFFFF;\n",
              "    }\n",
              "  </style>\n",
              "\n",
              "      <script>\n",
              "        const buttonEl =\n",
              "          document.querySelector('#df-c48312e3-5188-4448-8ff3-ee56c003009d button.colab-df-convert');\n",
              "        buttonEl.style.display =\n",
              "          google.colab.kernel.accessAllowed ? 'block' : 'none';\n",
              "\n",
              "        async function convertToInteractive(key) {\n",
              "          const element = document.querySelector('#df-c48312e3-5188-4448-8ff3-ee56c003009d');\n",
              "          const dataTable =\n",
              "            await google.colab.kernel.invokeFunction('convertToInteractive',\n",
              "                                                     [key], {});\n",
              "          if (!dataTable) return;\n",
              "\n",
              "          const docLinkHtml = 'Like what you see? Visit the ' +\n",
              "            '<a target=\"_blank\" href=https://colab.research.google.com/notebooks/data_table.ipynb>data table notebook</a>'\n",
              "            + ' to learn more about interactive tables.';\n",
              "          element.innerHTML = '';\n",
              "          dataTable['output_type'] = 'display_data';\n",
              "          await google.colab.output.renderOutput(dataTable, element);\n",
              "          const docLink = document.createElement('div');\n",
              "          docLink.innerHTML = docLinkHtml;\n",
              "          element.appendChild(docLink);\n",
              "        }\n",
              "      </script>\n",
              "    </div>\n",
              "  </div>\n",
              "  "
            ]
          },
          "metadata": {},
          "execution_count": 32
        }
      ]
    },
    {
      "cell_type": "code",
      "source": [
        "import matplotlib.pyplot as plt\n",
        "import seaborn as sns\n",
        "\n",
        "plt.rcParams['figure.figsize'] = (8.0, 6.0) # 그림의 기본 크기 설정\n",
        "\n",
        "# 각 클래스별 개수 출력\n",
        "print('클래스 0의 개수:', len(real_dataframe[real_dataframe.label == 0]))\n",
        "print('클래스 1의 개수:', len(real_dataframe[real_dataframe.label == 1]))\n",
        "\n",
        "\n",
        "# 각 클래스에 따른 학습 이미지의 개수를 출력하기\n",
        "fig, ax = plt.subplots(figsize = (10, 4)) # 그림 크기 설정\n",
        "sns.countplot(x ='label', data=real_dataframe)\n",
        "plt.xlabel(\"Class Label\")\n",
        "plt.ylabel(\"Number of Samples\")\n",
        "plt.show() "
      ],
      "metadata": {
        "colab": {
          "base_uri": "https://localhost:8080/",
          "height": 316
        },
        "id": "QpMvDW3kS5vC",
        "outputId": "35587fe7-dcdd-4377-ae50-f6041e1047cf"
      },
      "execution_count": 33,
      "outputs": [
        {
          "output_type": "stream",
          "name": "stdout",
          "text": [
            "클래스 0의 개수: 1\n",
            "클래스 1의 개수: 5\n"
          ]
        },
        {
          "output_type": "display_data",
          "data": {
            "text/plain": [
              "<Figure size 720x288 with 1 Axes>"
            ],
            "image/png": "[encoded data removed]"
          },
          "metadata": {
            "needs_background": "light"
          }
        }
      ]
    },
    {
      "cell_type": "code",
      "source": [
        "img = Image.open(real_dataframe.iloc[3].path)\n",
        "img = np.asarray(img)\n",
        "img.shape"
      ],
      "metadata": {
        "colab": {
          "base_uri": "https://localhost:8080/"
        },
        "id": "v5C0y4_ES5y6",
        "outputId": "27a5d245-b221-47a2-8dd0-8419497102f9"
      },
      "execution_count": 34,
      "outputs": [
        {
          "output_type": "execute_result",
          "data": {
            "text/plain": [
              "(198, 255, 4)"
            ]
          },
          "metadata": {},
          "execution_count": 34
        }
      ]
    },
    {
      "cell_type": "code",
      "source": [
        "from skimage.transform import resize\n",
        "from PIL import Image\n",
        "import numpy as np\n",
        "\n",
        "img = img[:,:,:3]\n",
        "img = resize(img, (64, 64, 3))\n",
        "print('이미지의 해상도:', img.shape)\n",
        "\n",
        "# 이미지 출력하기\n",
        "plt.imshow(img)\n",
        "plt.show()"
      ],
      "metadata": {
        "colab": {
          "base_uri": "https://localhost:8080/",
          "height": 395
        },
        "id": "wyJ3RqymS51M",
        "outputId": "4ed6b9da-f0e6-4be5-9024-8cb05197c366"
      },
      "execution_count": 36,
      "outputs": [
        {
          "output_type": "stream",
          "name": "stdout",
          "text": [
            "이미지의 해상도: (64, 64, 3)\n"
          ]
        },
        {
          "output_type": "display_data",
          "data": {
            "text/plain": [
              "<Figure size 576x432 with 1 Axes>"
            ],
            "image/png": "[encoded data removed]"
          },
          "metadata": {
            "needs_background": "light"
          }
        }
      ]
    },
    {
      "cell_type": "code",
      "source": [
        "import time\n",
        "\n",
        "\n",
        "######### 실제 데이터셋 #########\n",
        "start_time = time.time() # 시작 시간\n",
        "\n",
        "# 실제 데이터 \n",
        "X_real = []\n",
        "y_real = []\n",
        "\n",
        "# 데이터 정보를 하나씩 확인하며\n",
        "for index, row in real_dataframe.iterrows():\n",
        "    # 이미지 정보를 배열에 담기\n",
        "    img = Image.open(row['path'])\n",
        "\n",
        "    img = np.asarray(img)\n",
        "    img = img[:,:,:3]\n",
        "    img = resize(img, (64, 64, 3))\n",
        "    X_real.append(img)\n",
        "    y_real.append(row['label']) # 레이블 정보를 배열에 담기\n",
        "\n",
        "X_real = np.asarray(X_real) # Numpy 객체로 변환\n",
        "y_real = np.asarray(y_real) # Numpy 객체로 변환\n",
        "\n",
        "print(\"소요된 시간(초 단위):\", time.time() - start_time) # 실행 시간"
      ],
      "metadata": {
        "colab": {
          "base_uri": "https://localhost:8080/"
        },
        "id": "JDWP73e4S54m",
        "outputId": "e4cb100c-7798-4971-ef7e-0c5c30af81e2"
      },
      "execution_count": 37,
      "outputs": [
        {
          "output_type": "stream",
          "name": "stdout",
          "text": [
            "소요된 시간(초 단위): 0.327730655670166\n"
          ]
        }
      ]
    },
    {
      "cell_type": "code",
      "source": [
        "print('학습 이미지:', X_real.shape)\n",
        "print('학습 레이블:', y_real.shape)"
      ],
      "metadata": {
        "colab": {
          "base_uri": "https://localhost:8080/"
        },
        "id": "OQVGQaDoTBYz",
        "outputId": "a2403b24-518d-41b6-bc48-7cf1bed050e0"
      },
      "execution_count": 38,
      "outputs": [
        {
          "output_type": "stream",
          "name": "stdout",
          "text": [
            "학습 이미지: (6, 64, 64, 3)\n",
            "학습 레이블: (6,)\n"
          ]
        }
      ]
    },
    {
      "cell_type": "code",
      "source": [
        "# 각 클래스마다 특정 개수의 이미지를 출력합니다.\n",
        "samples_per_class = 1\n",
        "\n",
        "\n",
        "# 데이터 시각화 함수 구현\n",
        "def visualize_data(X_real, y_real, class_names, samples_per_class):\n",
        "    num_classes = len(class_names)\n",
        "    for y, cls in enumerate(class_names): # 각 클래스를 (클래스, 클래스명) 형식으로 순회\n",
        "        idxs = np.flatnonzero(y_real == y) # 해당 클래스를 갖는(True 값을 갖는) 데이터 인덱스 계산\n",
        "        idxs = np.random.choice(idxs, samples_per_class, replace=False) # 특정 개수만큼 무작위로 선택\n",
        "        for i, idx in enumerate(idxs): # 하나씩 이미지를 확인하며\n",
        "            plt_idx = i * num_classes + y + 1 # 이미지를 출력할 위치: 각 열(column)에 차례대로 출력하도록 설정\n",
        "            plt.subplot(samples_per_class, num_classes, plt_idx)\n",
        "            plt.imshow(X_real[idx], cmap=\"gray\")\n",
        "            plt.axis('off')\n",
        "            if i == 0:\n",
        "                plt.title(cls)\n",
        "    plt.show()\n",
        "\n",
        "visualize_data(X_real, y_real, class_names, samples_per_class)"
      ],
      "metadata": {
        "colab": {
          "base_uri": "https://localhost:8080/",
          "height": 250
        },
        "id": "6EauLSsBTBkK",
        "outputId": "b00949fe-d998-4e53-bd1d-ee71bfc51a46"
      },
      "execution_count": 39,
      "outputs": [
        {
          "output_type": "display_data",
          "data": {
            "text/plain": [
              "<Figure size 576x432 with 2 Axes>"
            ],
            "image/png": "[encoded data removed]"
          },
          "metadata": {
            "needs_background": "light"
          }
        }
      ]
    },
    {
      "cell_type": "code",
      "source": [
        "# 데이터 전처리(preprocessing)를 통해 각 이미지를 벡터로 변경합니다.\n",
        "X_real = np.reshape(X_real, (X_real.shape[0], -1))"
      ],
      "metadata": {
        "id": "fily0EqyTD8u"
      },
      "execution_count": 40,
      "outputs": []
    },
    {
      "cell_type": "markdown",
      "source": [
        "실제 사례 분석"
      ],
      "metadata": {
        "id": "upTm_T90THe3"
      }
    },
    {
      "cell_type": "code",
      "source": [
        "\n",
        "max_cnt = 4\n",
        "\n",
        "# 이미지들이 들어갈 수 있는 그림(figure) 생성\n",
        "fig, axes = plt.subplots(1, max_cnt)\n",
        "fig.set_size_inches(12, 4)\n",
        "fig.tight_layout()\n",
        "\n",
        "for ax, image, label, pred in zip(axes, X_real[:max_cnt], y_real[:max_cnt], model.predict(X_real[:max_cnt])):\n",
        "    ax.imshow(np.reshape(image, (64, 64, 3))) # 출력할 때는 이미지 해상도에 맞게 재변형\n",
        "    ax.axis('off')\n",
        "    ax.set_title(f'True label: {label}\\nPredicted label: {pred}')\n"
      ],
      "metadata": {
        "colab": {
          "base_uri": "https://localhost:8080/",
          "height": 191
        },
        "id": "DwoV36suTp-B",
        "outputId": "7e36167d-0232-4f4d-9607-dd1592c95ef3"
      },
      "execution_count": 46,
      "outputs": [
        {
          "output_type": "display_data",
          "data": {
            "text/plain": [
              "<Figure size 864x288 with 5 Axes>"
            ],
            "image/png": "[encoded data removed]"
          },
          "metadata": {
            "needs_background": "light"
          }
        }
      ]
    }
  ],
  "metadata": {
    "colab": {
      "provenance": [],
      "include_colab_link": true
    },
    "kernelspec": {
      "display_name": "Python 3",
      "name": "python3"
    }
  },
  "nbformat": 4,
  "nbformat_minor": 0
}